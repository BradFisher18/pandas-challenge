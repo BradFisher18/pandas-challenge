{
 "cells": [
  {
   "cell_type": "code",
   "execution_count": 940,
   "id": "56d23c8d-a125-44c4-9504-63c0495819a2",
   "metadata": {},
   "outputs": [
    {
     "data": {
      "text/html": [
       "<div>\n",
       "<style scoped>\n",
       "    .dataframe tbody tr th:only-of-type {\n",
       "        vertical-align: middle;\n",
       "    }\n",
       "\n",
       "    .dataframe tbody tr th {\n",
       "        vertical-align: top;\n",
       "    }\n",
       "\n",
       "    .dataframe thead th {\n",
       "        text-align: right;\n",
       "    }\n",
       "</style>\n",
       "<table border=\"1\" class=\"dataframe\">\n",
       "  <thead>\n",
       "    <tr style=\"text-align: right;\">\n",
       "      <th></th>\n",
       "      <th>School ID</th>\n",
       "      <th>school_name</th>\n",
       "      <th>type</th>\n",
       "      <th>size</th>\n",
       "      <th>budget</th>\n",
       "    </tr>\n",
       "  </thead>\n",
       "  <tbody>\n",
       "    <tr>\n",
       "      <th>0</th>\n",
       "      <td>0</td>\n",
       "      <td>Huang High School</td>\n",
       "      <td>Government</td>\n",
       "      <td>2917</td>\n",
       "      <td>1910635</td>\n",
       "    </tr>\n",
       "    <tr>\n",
       "      <th>1</th>\n",
       "      <td>1</td>\n",
       "      <td>Figueroa High School</td>\n",
       "      <td>Government</td>\n",
       "      <td>2949</td>\n",
       "      <td>1884411</td>\n",
       "    </tr>\n",
       "    <tr>\n",
       "      <th>2</th>\n",
       "      <td>2</td>\n",
       "      <td>Shelton High School</td>\n",
       "      <td>Independent</td>\n",
       "      <td>1761</td>\n",
       "      <td>1056600</td>\n",
       "    </tr>\n",
       "    <tr>\n",
       "      <th>3</th>\n",
       "      <td>3</td>\n",
       "      <td>Hernandez High School</td>\n",
       "      <td>Government</td>\n",
       "      <td>4635</td>\n",
       "      <td>3022020</td>\n",
       "    </tr>\n",
       "    <tr>\n",
       "      <th>4</th>\n",
       "      <td>4</td>\n",
       "      <td>Griffin High School</td>\n",
       "      <td>Independent</td>\n",
       "      <td>1468</td>\n",
       "      <td>917500</td>\n",
       "    </tr>\n",
       "    <tr>\n",
       "      <th>5</th>\n",
       "      <td>5</td>\n",
       "      <td>Wilson High School</td>\n",
       "      <td>Independent</td>\n",
       "      <td>2283</td>\n",
       "      <td>1319574</td>\n",
       "    </tr>\n",
       "    <tr>\n",
       "      <th>6</th>\n",
       "      <td>6</td>\n",
       "      <td>Cabrera High School</td>\n",
       "      <td>Independent</td>\n",
       "      <td>1858</td>\n",
       "      <td>1081356</td>\n",
       "    </tr>\n",
       "    <tr>\n",
       "      <th>7</th>\n",
       "      <td>7</td>\n",
       "      <td>Bailey High School</td>\n",
       "      <td>Government</td>\n",
       "      <td>4976</td>\n",
       "      <td>3124928</td>\n",
       "    </tr>\n",
       "    <tr>\n",
       "      <th>8</th>\n",
       "      <td>8</td>\n",
       "      <td>Holden High School</td>\n",
       "      <td>Independent</td>\n",
       "      <td>427</td>\n",
       "      <td>248087</td>\n",
       "    </tr>\n",
       "    <tr>\n",
       "      <th>9</th>\n",
       "      <td>9</td>\n",
       "      <td>Pena High School</td>\n",
       "      <td>Independent</td>\n",
       "      <td>962</td>\n",
       "      <td>585858</td>\n",
       "    </tr>\n",
       "    <tr>\n",
       "      <th>10</th>\n",
       "      <td>10</td>\n",
       "      <td>Wright High School</td>\n",
       "      <td>Independent</td>\n",
       "      <td>1800</td>\n",
       "      <td>1049400</td>\n",
       "    </tr>\n",
       "    <tr>\n",
       "      <th>11</th>\n",
       "      <td>11</td>\n",
       "      <td>Rodriguez High School</td>\n",
       "      <td>Government</td>\n",
       "      <td>3999</td>\n",
       "      <td>2547363</td>\n",
       "    </tr>\n",
       "    <tr>\n",
       "      <th>12</th>\n",
       "      <td>12</td>\n",
       "      <td>Johnson High School</td>\n",
       "      <td>Government</td>\n",
       "      <td>4761</td>\n",
       "      <td>3094650</td>\n",
       "    </tr>\n",
       "    <tr>\n",
       "      <th>13</th>\n",
       "      <td>13</td>\n",
       "      <td>Ford High School</td>\n",
       "      <td>Government</td>\n",
       "      <td>2739</td>\n",
       "      <td>1763916</td>\n",
       "    </tr>\n",
       "    <tr>\n",
       "      <th>14</th>\n",
       "      <td>14</td>\n",
       "      <td>Thomas High School</td>\n",
       "      <td>Independent</td>\n",
       "      <td>1635</td>\n",
       "      <td>1043130</td>\n",
       "    </tr>\n",
       "  </tbody>\n",
       "</table>\n",
       "</div>"
      ],
      "text/plain": [
       "    School ID            school_name         type  size   budget\n",
       "0           0      Huang High School   Government  2917  1910635\n",
       "1           1   Figueroa High School   Government  2949  1884411\n",
       "2           2    Shelton High School  Independent  1761  1056600\n",
       "3           3  Hernandez High School   Government  4635  3022020\n",
       "4           4    Griffin High School  Independent  1468   917500\n",
       "5           5     Wilson High School  Independent  2283  1319574\n",
       "6           6    Cabrera High School  Independent  1858  1081356\n",
       "7           7     Bailey High School   Government  4976  3124928\n",
       "8           8     Holden High School  Independent   427   248087\n",
       "9           9       Pena High School  Independent   962   585858\n",
       "10         10     Wright High School  Independent  1800  1049400\n",
       "11         11  Rodriguez High School   Government  3999  2547363\n",
       "12         12    Johnson High School   Government  4761  3094650\n",
       "13         13       Ford High School   Government  2739  1763916\n",
       "14         14     Thomas High School  Independent  1635  1043130"
      ]
     },
     "execution_count": 940,
     "metadata": {},
     "output_type": "execute_result"
    }
   ],
   "source": [
    "#import and read\n",
    "import pandas as pd\n",
    "from pathlib import Path\n",
    "\n",
    "# File to Load (Remember to Change These)\n",
    "school_data_to_load = Path(\"PyCitySchools/Resources/schools_complete.csv\")\n",
    "student_data_to_load = Path(\"PyCitySchools/Resources/students_complete.csv\")\n",
    "\n",
    "# Read School and Student Data File and store into Pandas DataFrames\n",
    "school_data = pd.read_csv(school_data_to_load)\n",
    "school_data"
   ]
  },
  {
   "cell_type": "code",
   "execution_count": 941,
   "id": "34224abc-5400-4065-b741-8156a48fc2a5",
   "metadata": {},
   "outputs": [
    {
     "data": {
      "text/html": [
       "<div>\n",
       "<style scoped>\n",
       "    .dataframe tbody tr th:only-of-type {\n",
       "        vertical-align: middle;\n",
       "    }\n",
       "\n",
       "    .dataframe tbody tr th {\n",
       "        vertical-align: top;\n",
       "    }\n",
       "\n",
       "    .dataframe thead th {\n",
       "        text-align: right;\n",
       "    }\n",
       "</style>\n",
       "<table border=\"1\" class=\"dataframe\">\n",
       "  <thead>\n",
       "    <tr style=\"text-align: right;\">\n",
       "      <th></th>\n",
       "      <th>Student ID</th>\n",
       "      <th>student_name</th>\n",
       "      <th>gender</th>\n",
       "      <th>year</th>\n",
       "      <th>school_name</th>\n",
       "      <th>reading_score</th>\n",
       "      <th>maths_score</th>\n",
       "    </tr>\n",
       "  </thead>\n",
       "  <tbody>\n",
       "    <tr>\n",
       "      <th>0</th>\n",
       "      <td>0</td>\n",
       "      <td>Paul Bradley</td>\n",
       "      <td>M</td>\n",
       "      <td>9</td>\n",
       "      <td>Huang High School</td>\n",
       "      <td>96</td>\n",
       "      <td>94</td>\n",
       "    </tr>\n",
       "    <tr>\n",
       "      <th>1</th>\n",
       "      <td>1</td>\n",
       "      <td>Victor Smith</td>\n",
       "      <td>M</td>\n",
       "      <td>12</td>\n",
       "      <td>Huang High School</td>\n",
       "      <td>90</td>\n",
       "      <td>43</td>\n",
       "    </tr>\n",
       "    <tr>\n",
       "      <th>2</th>\n",
       "      <td>2</td>\n",
       "      <td>Kevin Rodriguez</td>\n",
       "      <td>M</td>\n",
       "      <td>12</td>\n",
       "      <td>Huang High School</td>\n",
       "      <td>41</td>\n",
       "      <td>76</td>\n",
       "    </tr>\n",
       "    <tr>\n",
       "      <th>3</th>\n",
       "      <td>3</td>\n",
       "      <td>Richard Scott</td>\n",
       "      <td>M</td>\n",
       "      <td>12</td>\n",
       "      <td>Huang High School</td>\n",
       "      <td>89</td>\n",
       "      <td>86</td>\n",
       "    </tr>\n",
       "    <tr>\n",
       "      <th>4</th>\n",
       "      <td>4</td>\n",
       "      <td>Bonnie Ray</td>\n",
       "      <td>F</td>\n",
       "      <td>9</td>\n",
       "      <td>Huang High School</td>\n",
       "      <td>87</td>\n",
       "      <td>69</td>\n",
       "    </tr>\n",
       "  </tbody>\n",
       "</table>\n",
       "</div>"
      ],
      "text/plain": [
       "   Student ID     student_name gender  year        school_name  reading_score  \\\n",
       "0           0     Paul Bradley      M     9  Huang High School             96   \n",
       "1           1     Victor Smith      M    12  Huang High School             90   \n",
       "2           2  Kevin Rodriguez      M    12  Huang High School             41   \n",
       "3           3    Richard Scott      M    12  Huang High School             89   \n",
       "4           4       Bonnie Ray      F     9  Huang High School             87   \n",
       "\n",
       "   maths_score  \n",
       "0           94  \n",
       "1           43  \n",
       "2           76  \n",
       "3           86  \n",
       "4           69  "
      ]
     },
     "execution_count": 941,
     "metadata": {},
     "output_type": "execute_result"
    }
   ],
   "source": [
    "#read student data csv\n",
    "student_data = pd.read_csv(student_data_to_load)\n",
    "student_data.head()"
   ]
  },
  {
   "cell_type": "code",
   "execution_count": 942,
   "id": "6aedb9fc-8b35-4c0a-bb28-0bf2b22b268b",
   "metadata": {},
   "outputs": [
    {
     "data": {
      "text/html": [
       "<div>\n",
       "<style scoped>\n",
       "    .dataframe tbody tr th:only-of-type {\n",
       "        vertical-align: middle;\n",
       "    }\n",
       "\n",
       "    .dataframe tbody tr th {\n",
       "        vertical-align: top;\n",
       "    }\n",
       "\n",
       "    .dataframe thead th {\n",
       "        text-align: right;\n",
       "    }\n",
       "</style>\n",
       "<table border=\"1\" class=\"dataframe\">\n",
       "  <thead>\n",
       "    <tr style=\"text-align: right;\">\n",
       "      <th></th>\n",
       "      <th>Student ID</th>\n",
       "      <th>student_name</th>\n",
       "      <th>gender</th>\n",
       "      <th>year</th>\n",
       "      <th>school_name</th>\n",
       "      <th>reading_score</th>\n",
       "      <th>maths_score</th>\n",
       "      <th>School ID</th>\n",
       "      <th>type</th>\n",
       "      <th>size</th>\n",
       "      <th>budget</th>\n",
       "    </tr>\n",
       "  </thead>\n",
       "  <tbody>\n",
       "    <tr>\n",
       "      <th>0</th>\n",
       "      <td>0</td>\n",
       "      <td>Paul Bradley</td>\n",
       "      <td>M</td>\n",
       "      <td>9</td>\n",
       "      <td>Huang High School</td>\n",
       "      <td>96</td>\n",
       "      <td>94</td>\n",
       "      <td>0</td>\n",
       "      <td>Government</td>\n",
       "      <td>2917</td>\n",
       "      <td>1910635</td>\n",
       "    </tr>\n",
       "    <tr>\n",
       "      <th>1</th>\n",
       "      <td>1</td>\n",
       "      <td>Victor Smith</td>\n",
       "      <td>M</td>\n",
       "      <td>12</td>\n",
       "      <td>Huang High School</td>\n",
       "      <td>90</td>\n",
       "      <td>43</td>\n",
       "      <td>0</td>\n",
       "      <td>Government</td>\n",
       "      <td>2917</td>\n",
       "      <td>1910635</td>\n",
       "    </tr>\n",
       "    <tr>\n",
       "      <th>2</th>\n",
       "      <td>2</td>\n",
       "      <td>Kevin Rodriguez</td>\n",
       "      <td>M</td>\n",
       "      <td>12</td>\n",
       "      <td>Huang High School</td>\n",
       "      <td>41</td>\n",
       "      <td>76</td>\n",
       "      <td>0</td>\n",
       "      <td>Government</td>\n",
       "      <td>2917</td>\n",
       "      <td>1910635</td>\n",
       "    </tr>\n",
       "    <tr>\n",
       "      <th>3</th>\n",
       "      <td>3</td>\n",
       "      <td>Richard Scott</td>\n",
       "      <td>M</td>\n",
       "      <td>12</td>\n",
       "      <td>Huang High School</td>\n",
       "      <td>89</td>\n",
       "      <td>86</td>\n",
       "      <td>0</td>\n",
       "      <td>Government</td>\n",
       "      <td>2917</td>\n",
       "      <td>1910635</td>\n",
       "    </tr>\n",
       "    <tr>\n",
       "      <th>4</th>\n",
       "      <td>4</td>\n",
       "      <td>Bonnie Ray</td>\n",
       "      <td>F</td>\n",
       "      <td>9</td>\n",
       "      <td>Huang High School</td>\n",
       "      <td>87</td>\n",
       "      <td>69</td>\n",
       "      <td>0</td>\n",
       "      <td>Government</td>\n",
       "      <td>2917</td>\n",
       "      <td>1910635</td>\n",
       "    </tr>\n",
       "  </tbody>\n",
       "</table>\n",
       "</div>"
      ],
      "text/plain": [
       "   Student ID     student_name gender  year        school_name  reading_score  \\\n",
       "0           0     Paul Bradley      M     9  Huang High School             96   \n",
       "1           1     Victor Smith      M    12  Huang High School             90   \n",
       "2           2  Kevin Rodriguez      M    12  Huang High School             41   \n",
       "3           3    Richard Scott      M    12  Huang High School             89   \n",
       "4           4       Bonnie Ray      F     9  Huang High School             87   \n",
       "\n",
       "   maths_score  School ID        type  size   budget  \n",
       "0           94          0  Government  2917  1910635  \n",
       "1           43          0  Government  2917  1910635  \n",
       "2           76          0  Government  2917  1910635  \n",
       "3           86          0  Government  2917  1910635  \n",
       "4           69          0  Government  2917  1910635  "
      ]
     },
     "execution_count": 942,
     "metadata": {},
     "output_type": "execute_result"
    }
   ],
   "source": [
    "#merge csv files\n",
    "school_data_complete = pd.merge(student_data, school_data, how=\"left\", on=[\"school_name\", \"school_name\"])\n",
    "school_data_complete.head()"
   ]
  },
  {
   "cell_type": "code",
   "execution_count": 943,
   "id": "92a89305-dbf5-4a40-9b07-a683c719c1e2",
   "metadata": {},
   "outputs": [
    {
     "data": {
      "text/plain": [
       "15"
      ]
     },
     "execution_count": 943,
     "metadata": {},
     "output_type": "execute_result"
    }
   ],
   "source": [
    "#number of unique schools\n",
    "number_of_schools = school_data['school_name'].count()\n",
    "number_of_schools"
   ]
  },
  {
   "cell_type": "code",
   "execution_count": 944,
   "id": "acfa16de-c202-4b8c-a478-cca65c427d75",
   "metadata": {},
   "outputs": [
    {
     "data": {
      "text/plain": [
       "39170"
      ]
     },
     "execution_count": 944,
     "metadata": {},
     "output_type": "execute_result"
    }
   ],
   "source": [
    "#total students\n",
    "total_students = student_data['student_name'].count()\n",
    "total_students"
   ]
  },
  {
   "cell_type": "code",
   "execution_count": 945,
   "id": "6c2e7d50-c508-4930-8d22-568ebf8c1320",
   "metadata": {},
   "outputs": [
    {
     "data": {
      "text/plain": [
       "24649428"
      ]
     },
     "execution_count": 945,
     "metadata": {},
     "output_type": "execute_result"
    }
   ],
   "source": [
    "#total budget\n",
    "total_budget = school_data['budget'].sum()\n",
    "total_budget"
   ]
  },
  {
   "cell_type": "code",
   "execution_count": 946,
   "id": "cb1f8c06-d6b8-4d99-ad1f-9987267abe4d",
   "metadata": {},
   "outputs": [
    {
     "data": {
      "text/plain": [
       "70.33819249425581"
      ]
     },
     "execution_count": 946,
     "metadata": {},
     "output_type": "execute_result"
    }
   ],
   "source": [
    "#average maths score\n",
    "ave_maths_score = school_data_complete['maths_score'].mean()\n",
    "ave_maths_score"
   ]
  },
  {
   "cell_type": "code",
   "execution_count": 947,
   "id": "aab06a89-f9b2-4528-a358-beb18985826c",
   "metadata": {},
   "outputs": [
    {
     "data": {
      "text/plain": [
       "69.98013786060761"
      ]
     },
     "execution_count": 947,
     "metadata": {},
     "output_type": "execute_result"
    }
   ],
   "source": [
    "#average reading scores\n",
    "ave_reading_score = school_data_complete['reading_score'].mean()\n",
    "ave_reading_score"
   ]
  },
  {
   "cell_type": "code",
   "execution_count": 948,
   "id": "a9a37490-868a-499b-a887-cf1b4c3544a6",
   "metadata": {},
   "outputs": [
    {
     "data": {
      "text/plain": [
       "86.07863160582077"
      ]
     },
     "execution_count": 948,
     "metadata": {},
     "output_type": "execute_result"
    }
   ],
   "source": [
    "# % passing maths\n",
    "passing_maths = school_data_complete.loc[school_data_complete['maths_score']>=50, :]\n",
    "passing_maths_percent = passing_maths['maths_score'].count()/total_students*100\n",
    "passing_maths_percent"
   ]
  },
  {
   "cell_type": "code",
   "execution_count": 949,
   "id": "6fd60b0c-1569-4a18-8f00-976f940e76b0",
   "metadata": {},
   "outputs": [
    {
     "data": {
      "text/plain": [
       "84.42685728874139"
      ]
     },
     "execution_count": 949,
     "metadata": {},
     "output_type": "execute_result"
    }
   ],
   "source": [
    "# % passing reading\n",
    "passing_reading = school_data_complete.loc[school_data_complete['reading_score']>=50, :]\n",
    "passing_reading_percent = passing_reading['reading_score'].count()/total_students*100\n",
    "passing_reading_percent"
   ]
  },
  {
   "cell_type": "code",
   "execution_count": 950,
   "id": "1b624d3e-9f72-495d-a6a0-cd1f44240161",
   "metadata": {},
   "outputs": [
    {
     "data": {
      "text/plain": [
       "72.80827163645647"
      ]
     },
     "execution_count": 950,
     "metadata": {},
     "output_type": "execute_result"
    }
   ],
   "source": [
    "# % overall passing\n",
    "overall_passing = school_data_complete.loc[(school_data_complete['reading_score']>=50) & (school_data_complete['maths_score']>=50),:]\n",
    "overall_passing_percent = overall_passing['maths_score'].count()/total_students*100\n",
    "overall_passing_percent"
   ]
  },
  {
   "cell_type": "code",
   "execution_count": 951,
   "id": "c513b713-e5ba-4a44-927d-929323bd2fbd",
   "metadata": {},
   "outputs": [],
   "source": [
    "#print summary dataframe\n",
    "local_gov_summary_df = pd.DataFrame({\n",
    "    \"Total Schools\": [number_of_schools],\n",
    "    'Total Students': [total_students],\n",
    "    'Total School Budget':[total_budget],\n",
    "    'Average Maths Score':[ave_maths_score],\n",
    "    'Average Reading Score':[ave_reading_score],\n",
    "    '% Passing Maths':[passing_maths_percent],\n",
    "    '% Passing Reading':[passing_reading_percent],\n",
    "    '% Passing Overall':[overall_passing_percent]\n",
    "     })"
   ]
  },
  {
   "cell_type": "code",
   "execution_count": 952,
   "id": "eddea14a",
   "metadata": {},
   "outputs": [],
   "source": [
    "#format cells\n",
    "local_gov_summary_df['Total Students'] = local_gov_summary_df['Total Students'].map('{:,}'.format)\n",
    "local_gov_summary_df['Total School Budget'] = local_gov_summary_df['Total School Budget'].map('${:,}'.format)\n",
    "local_gov_summary_df['Average Maths Score'] = local_gov_summary_df['Average Maths Score'].map('{:0.2f}'.format)\n",
    "local_gov_summary_df['Average Reading Score'] = local_gov_summary_df['Average Reading Score'].map('{:0.2f}'.format)\n",
    "local_gov_summary_df['% Passing Maths'] = local_gov_summary_df['% Passing Maths'].map('{:0.2f}%'.format)\n",
    "local_gov_summary_df['% Passing Reading'] = local_gov_summary_df['% Passing Reading'].map('{:0.2f}%'.format)\n",
    "local_gov_summary_df['% Passing Overall'] = local_gov_summary_df['% Passing Overall'].map('{:0.2f}%'.format)"
   ]
  },
  {
   "cell_type": "markdown",
   "id": "3fba0145",
   "metadata": {},
   "source": [
    "# Local Government Area Summary"
   ]
  },
  {
   "cell_type": "code",
   "execution_count": 953,
   "id": "a94d9829",
   "metadata": {},
   "outputs": [
    {
     "data": {
      "text/html": [
       "<div>\n",
       "<style scoped>\n",
       "    .dataframe tbody tr th:only-of-type {\n",
       "        vertical-align: middle;\n",
       "    }\n",
       "\n",
       "    .dataframe tbody tr th {\n",
       "        vertical-align: top;\n",
       "    }\n",
       "\n",
       "    .dataframe thead th {\n",
       "        text-align: right;\n",
       "    }\n",
       "</style>\n",
       "<table border=\"1\" class=\"dataframe\">\n",
       "  <thead>\n",
       "    <tr style=\"text-align: right;\">\n",
       "      <th></th>\n",
       "      <th>Total Schools</th>\n",
       "      <th>Total Students</th>\n",
       "      <th>Total School Budget</th>\n",
       "      <th>Average Maths Score</th>\n",
       "      <th>Average Reading Score</th>\n",
       "      <th>% Passing Maths</th>\n",
       "      <th>% Passing Reading</th>\n",
       "      <th>% Passing Overall</th>\n",
       "    </tr>\n",
       "  </thead>\n",
       "  <tbody>\n",
       "    <tr>\n",
       "      <th>0</th>\n",
       "      <td>15</td>\n",
       "      <td>39,170</td>\n",
       "      <td>$24,649,428</td>\n",
       "      <td>70.34</td>\n",
       "      <td>69.98</td>\n",
       "      <td>86.08%</td>\n",
       "      <td>84.43%</td>\n",
       "      <td>72.81%</td>\n",
       "    </tr>\n",
       "  </tbody>\n",
       "</table>\n",
       "</div>"
      ],
      "text/plain": [
       "   Total Schools Total Students Total School Budget Average Maths Score  \\\n",
       "0             15         39,170         $24,649,428               70.34   \n",
       "\n",
       "  Average Reading Score % Passing Maths % Passing Reading % Passing Overall  \n",
       "0                 69.98          86.08%            84.43%            72.81%  "
      ]
     },
     "execution_count": 953,
     "metadata": {},
     "output_type": "execute_result"
    }
   ],
   "source": [
    "local_gov_summary_df"
   ]
  },
  {
   "cell_type": "code",
   "execution_count": 954,
   "id": "158a7f48-9dc1-40f3-81f3-35eed39a4677",
   "metadata": {},
   "outputs": [],
   "source": [
    "#check index\n",
    "school_name_index = school_data.set_index('school_name')"
   ]
  },
  {
   "cell_type": "code",
   "execution_count": 955,
   "id": "b21d7ae2-417b-49ce-848e-92588373e5ef",
   "metadata": {},
   "outputs": [
    {
     "data": {
      "text/html": [
       "<div>\n",
       "<style scoped>\n",
       "    .dataframe tbody tr th:only-of-type {\n",
       "        vertical-align: middle;\n",
       "    }\n",
       "\n",
       "    .dataframe tbody tr th {\n",
       "        vertical-align: top;\n",
       "    }\n",
       "\n",
       "    .dataframe thead th {\n",
       "        text-align: right;\n",
       "    }\n",
       "</style>\n",
       "<table border=\"1\" class=\"dataframe\">\n",
       "  <thead>\n",
       "    <tr style=\"text-align: right;\">\n",
       "      <th></th>\n",
       "      <th>Student ID</th>\n",
       "      <th>student_name</th>\n",
       "      <th>gender</th>\n",
       "      <th>year</th>\n",
       "      <th>reading_score</th>\n",
       "      <th>maths_score</th>\n",
       "    </tr>\n",
       "    <tr>\n",
       "      <th>school_name</th>\n",
       "      <th></th>\n",
       "      <th></th>\n",
       "      <th></th>\n",
       "      <th></th>\n",
       "      <th></th>\n",
       "      <th></th>\n",
       "    </tr>\n",
       "  </thead>\n",
       "  <tbody>\n",
       "    <tr>\n",
       "      <th>Huang High School</th>\n",
       "      <td>0</td>\n",
       "      <td>Paul Bradley</td>\n",
       "      <td>M</td>\n",
       "      <td>9</td>\n",
       "      <td>96</td>\n",
       "      <td>94</td>\n",
       "    </tr>\n",
       "    <tr>\n",
       "      <th>Huang High School</th>\n",
       "      <td>1</td>\n",
       "      <td>Victor Smith</td>\n",
       "      <td>M</td>\n",
       "      <td>12</td>\n",
       "      <td>90</td>\n",
       "      <td>43</td>\n",
       "    </tr>\n",
       "    <tr>\n",
       "      <th>Huang High School</th>\n",
       "      <td>2</td>\n",
       "      <td>Kevin Rodriguez</td>\n",
       "      <td>M</td>\n",
       "      <td>12</td>\n",
       "      <td>41</td>\n",
       "      <td>76</td>\n",
       "    </tr>\n",
       "    <tr>\n",
       "      <th>Huang High School</th>\n",
       "      <td>3</td>\n",
       "      <td>Richard Scott</td>\n",
       "      <td>M</td>\n",
       "      <td>12</td>\n",
       "      <td>89</td>\n",
       "      <td>86</td>\n",
       "    </tr>\n",
       "    <tr>\n",
       "      <th>Huang High School</th>\n",
       "      <td>4</td>\n",
       "      <td>Bonnie Ray</td>\n",
       "      <td>F</td>\n",
       "      <td>9</td>\n",
       "      <td>87</td>\n",
       "      <td>69</td>\n",
       "    </tr>\n",
       "    <tr>\n",
       "      <th>...</th>\n",
       "      <td>...</td>\n",
       "      <td>...</td>\n",
       "      <td>...</td>\n",
       "      <td>...</td>\n",
       "      <td>...</td>\n",
       "      <td>...</td>\n",
       "    </tr>\n",
       "    <tr>\n",
       "      <th>Thomas High School</th>\n",
       "      <td>39165</td>\n",
       "      <td>Donna Howard</td>\n",
       "      <td>F</td>\n",
       "      <td>12</td>\n",
       "      <td>51</td>\n",
       "      <td>48</td>\n",
       "    </tr>\n",
       "    <tr>\n",
       "      <th>Thomas High School</th>\n",
       "      <td>39166</td>\n",
       "      <td>Dawn Bell</td>\n",
       "      <td>F</td>\n",
       "      <td>10</td>\n",
       "      <td>81</td>\n",
       "      <td>89</td>\n",
       "    </tr>\n",
       "    <tr>\n",
       "      <th>Thomas High School</th>\n",
       "      <td>39167</td>\n",
       "      <td>Rebecca Tanner</td>\n",
       "      <td>F</td>\n",
       "      <td>9</td>\n",
       "      <td>99</td>\n",
       "      <td>99</td>\n",
       "    </tr>\n",
       "    <tr>\n",
       "      <th>Thomas High School</th>\n",
       "      <td>39168</td>\n",
       "      <td>Desiree Kidd</td>\n",
       "      <td>F</td>\n",
       "      <td>10</td>\n",
       "      <td>72</td>\n",
       "      <td>77</td>\n",
       "    </tr>\n",
       "    <tr>\n",
       "      <th>Thomas High School</th>\n",
       "      <td>39169</td>\n",
       "      <td>Carolyn Jackson</td>\n",
       "      <td>F</td>\n",
       "      <td>11</td>\n",
       "      <td>47</td>\n",
       "      <td>62</td>\n",
       "    </tr>\n",
       "  </tbody>\n",
       "</table>\n",
       "<p>39170 rows × 6 columns</p>\n",
       "</div>"
      ],
      "text/plain": [
       "                    Student ID     student_name gender  year  reading_score  \\\n",
       "school_name                                                                   \n",
       "Huang High School            0     Paul Bradley      M     9             96   \n",
       "Huang High School            1     Victor Smith      M    12             90   \n",
       "Huang High School            2  Kevin Rodriguez      M    12             41   \n",
       "Huang High School            3    Richard Scott      M    12             89   \n",
       "Huang High School            4       Bonnie Ray      F     9             87   \n",
       "...                        ...              ...    ...   ...            ...   \n",
       "Thomas High School       39165     Donna Howard      F    12             51   \n",
       "Thomas High School       39166        Dawn Bell      F    10             81   \n",
       "Thomas High School       39167   Rebecca Tanner      F     9             99   \n",
       "Thomas High School       39168     Desiree Kidd      F    10             72   \n",
       "Thomas High School       39169  Carolyn Jackson      F    11             47   \n",
       "\n",
       "                    maths_score  \n",
       "school_name                      \n",
       "Huang High School            94  \n",
       "Huang High School            43  \n",
       "Huang High School            76  \n",
       "Huang High School            86  \n",
       "Huang High School            69  \n",
       "...                         ...  \n",
       "Thomas High School           48  \n",
       "Thomas High School           89  \n",
       "Thomas High School           99  \n",
       "Thomas High School           77  \n",
       "Thomas High School           62  \n",
       "\n",
       "[39170 rows x 6 columns]"
      ]
     },
     "execution_count": 955,
     "metadata": {},
     "output_type": "execute_result"
    }
   ],
   "source": [
    "#change index in student data df,\n",
    "student_data_index = student_data.set_index('school_name')\n",
    "student_data_index"
   ]
  },
  {
   "cell_type": "code",
   "execution_count": 956,
   "id": "f754a33e-5f72-4f8d-9c9b-1c84e6aafd1c",
   "metadata": {},
   "outputs": [
    {
     "data": {
      "text/plain": [
       "school_name\n",
       "Huang High School         Government\n",
       "Figueroa High School      Government\n",
       "Shelton High School      Independent\n",
       "Hernandez High School     Government\n",
       "Griffin High School      Independent\n",
       "Wilson High School       Independent\n",
       "Cabrera High School      Independent\n",
       "Bailey High School        Government\n",
       "Holden High School       Independent\n",
       "Pena High School         Independent\n",
       "Wright High School       Independent\n",
       "Rodriguez High School     Government\n",
       "Johnson High School       Government\n",
       "Ford High School          Government\n",
       "Thomas High School       Independent\n",
       "Name: type, dtype: object"
      ]
     },
     "execution_count": 956,
     "metadata": {},
     "output_type": "execute_result"
    }
   ],
   "source": [
    "#define school type per school\n",
    "school_type = school_name_index['type']\n",
    "school_type"
   ]
  },
  {
   "cell_type": "code",
   "execution_count": 957,
   "id": "753774c5-f9ab-4d58-b149-e9113fea3ced",
   "metadata": {},
   "outputs": [
    {
     "data": {
      "text/plain": [
       "school_name\n",
       "Bailey High School       4976\n",
       "Cabrera High School      1858\n",
       "Figueroa High School     2949\n",
       "Ford High School         2739\n",
       "Griffin High School      1468\n",
       "Hernandez High School    4635\n",
       "Holden High School        427\n",
       "Huang High School        2917\n",
       "Johnson High School      4761\n",
       "Pena High School          962\n",
       "Rodriguez High School    3999\n",
       "Shelton High School      1761\n",
       "Thomas High School       1635\n",
       "Wilson High School       2283\n",
       "Wright High School       1800\n",
       "Name: student_name, dtype: int64"
      ]
     },
     "execution_count": 957,
     "metadata": {},
     "output_type": "execute_result"
    }
   ],
   "source": [
    "#define student count grouped by schools\n",
    "total_school_count = school_data_complete.groupby(['school_name'])['student_name'].count()\n",
    "total_school_count"
   ]
  },
  {
   "cell_type": "code",
   "execution_count": 958,
   "id": "024db36b-0653-4953-93c9-d5479e88eb0c",
   "metadata": {},
   "outputs": [],
   "source": [
    "#define budget per school,\n",
    "school_budget = school_data_complete.groupby(['school_name'])['budget'].mean()"
   ]
  },
  {
   "cell_type": "code",
   "execution_count": 959,
   "id": "703e4a69-20c9-4fcf-8483-036d3dc6845a",
   "metadata": {},
   "outputs": [],
   "source": [
    "#define budget per student at each school\n",
    "per_student_budget = school_budget/total_school_count"
   ]
  },
  {
   "cell_type": "code",
   "execution_count": 960,
   "id": "fe42cd6a-0f9c-47fb-b1ec-c5cb9942c000",
   "metadata": {},
   "outputs": [],
   "source": [
    "#average maths score at each school\n",
    "ave_school_maths_score = school_data_complete.groupby(['school_name'])['maths_score'].mean()"
   ]
  },
  {
   "cell_type": "code",
   "execution_count": 961,
   "id": "e1afb3cc-e3e7-47e9-90c8-69ba49866d7d",
   "metadata": {},
   "outputs": [],
   "source": [
    "#average reading scores per school\n",
    "ave_school_reading_score = school_data_complete.groupby(['school_name'])['reading_score'].mean()"
   ]
  },
  {
   "cell_type": "code",
   "execution_count": 962,
   "id": "18251453-a2ba-4ebd-8771-2dd02cd5a0b7",
   "metadata": {},
   "outputs": [],
   "source": [
    "#filter for only students passing maths,\n",
    "pass_math = school_data_complete.loc[school_data_complete['maths_score']>=50, :]"
   ]
  },
  {
   "cell_type": "code",
   "execution_count": 963,
   "id": "d62931ee-8f26-4494-9859-2711975ca386",
   "metadata": {},
   "outputs": [],
   "source": [
    "#count of students passing maths per school\n",
    "passingmaths_count = pass_math.groupby(['school_name'])['maths_score'].count()"
   ]
  },
  {
   "cell_type": "code",
   "execution_count": 964,
   "id": "16d52465-b294-4790-b484-56b80d022b44",
   "metadata": {},
   "outputs": [],
   "source": [
    "#percentage of students passing maths at each school\n",
    "passingmaths_percent = passingmaths_count/total_school_count*100"
   ]
  },
  {
   "cell_type": "code",
   "execution_count": 965,
   "id": "ce421b81-a53c-41a2-8122-a637beae060f",
   "metadata": {},
   "outputs": [],
   "source": [
    "#filter by students passing reading\n",
    "passreading_locate = school_data_complete.loc[school_data_complete['reading_score']>=50, :]"
   ]
  },
  {
   "cell_type": "code",
   "execution_count": 966,
   "id": "a30c21bb-8ad0-4eae-9c1b-ccf7a0a373e8",
   "metadata": {},
   "outputs": [],
   "source": [
    "#count of students passing reading at each school\n",
    "passreading_count = passreading_locate.groupby(['school_name'])['reading_score'].count()"
   ]
  },
  {
   "cell_type": "code",
   "execution_count": 967,
   "id": "2062e7d3-4a36-41bd-a8c4-6cedbce7bc5a",
   "metadata": {},
   "outputs": [],
   "source": [
    "#percentage of students passing at each school,\n",
    "passreading_percent = passreading_count/total_school_count*100"
   ]
  },
  {
   "cell_type": "code",
   "execution_count": 968,
   "id": "0723e272-8811-47ce-af5f-5a9c0dcb2d2e",
   "metadata": {},
   "outputs": [],
   "source": [
    "#count of students passing overall per school\n",
    "school_overallpass_count = overall_passing.groupby(['school_name'])['maths_score'].count()"
   ]
  },
  {
   "cell_type": "code",
   "execution_count": 969,
   "id": "15a3a933-3950-4bc5-9f5a-b65ea1f62ad4",
   "metadata": {},
   "outputs": [],
   "source": [
    "#percentage of students passing overall at each school\n",
    "school_overallpass_percent = school_overallpass_count/total_school_count*100"
   ]
  },
  {
   "cell_type": "code",
   "execution_count": 970,
   "id": "c9964969-531f-4f58-a998-2e1da603b693",
   "metadata": {},
   "outputs": [],
   "source": [
    "#set the index column to school name,\n",
    "schoolsummary_df = pd.DataFrame(index=school_name_index.index)"
   ]
  },
  {
   "cell_type": "code",
   "execution_count": 971,
   "id": "91417903-7942-466d-bbbb-c77e3e7ca61d",
   "metadata": {},
   "outputs": [],
   "source": [
    "#add columns to the school summary dataframe(note: realised later there is a more efficient way of doing this)\n",
    "schoolsummary_df['School Type'] = school_type\n",
    "schoolsummary_df['Total Students'] = total_school_count\n",
    "schoolsummary_df['Total School Budget'] = school_budget\n",
    "schoolsummary_df['Per Student Budget'] = per_student_budget\n",
    "schoolsummary_df['Average Maths Score'] = ave_school_maths_score\n",
    "schoolsummary_df['Average Reading Score'] = ave_school_reading_score\n",
    "schoolsummary_df['% Passing Maths'] = passingmaths_percent\n",
    "schoolsummary_df['% Passing Reading'] = passreading_percent\n",
    "schoolsummary_df['% Passing Overall'] = school_overallpass_percent"
   ]
  },
  {
   "cell_type": "code",
   "execution_count": 972,
   "id": "868c84a4-0284-4cd3-b667-d5705a09b6ff",
   "metadata": {},
   "outputs": [],
   "source": [
    "#rename the index column ,title\n",
    "schoolsummary_df.index.names = ['School Name']\n",
    "schoolsummary_df = schoolsummary_df.sort_values(['School Name'])"
   ]
  },
  {
   "cell_type": "markdown",
   "id": "f2399aa0",
   "metadata": {},
   "source": [
    "# School Summary"
   ]
  },
  {
   "cell_type": "code",
   "execution_count": 973,
   "id": "f63d94be-55dd-4d65-a053-ffe184f23d05",
   "metadata": {},
   "outputs": [
    {
     "data": {
      "text/html": [
       "<div>\n",
       "<style scoped>\n",
       "    .dataframe tbody tr th:only-of-type {\n",
       "        vertical-align: middle;\n",
       "    }\n",
       "\n",
       "    .dataframe tbody tr th {\n",
       "        vertical-align: top;\n",
       "    }\n",
       "\n",
       "    .dataframe thead th {\n",
       "        text-align: right;\n",
       "    }\n",
       "</style>\n",
       "<table border=\"1\" class=\"dataframe\">\n",
       "  <thead>\n",
       "    <tr style=\"text-align: right;\">\n",
       "      <th></th>\n",
       "      <th>School Type</th>\n",
       "      <th>Total Students</th>\n",
       "      <th>Total School Budget</th>\n",
       "      <th>Per Student Budget</th>\n",
       "      <th>Average Maths Score</th>\n",
       "      <th>Average Reading Score</th>\n",
       "      <th>% Passing Maths</th>\n",
       "      <th>% Passing Reading</th>\n",
       "      <th>% Passing Overall</th>\n",
       "    </tr>\n",
       "    <tr>\n",
       "      <th>School Name</th>\n",
       "      <th></th>\n",
       "      <th></th>\n",
       "      <th></th>\n",
       "      <th></th>\n",
       "      <th></th>\n",
       "      <th></th>\n",
       "      <th></th>\n",
       "      <th></th>\n",
       "      <th></th>\n",
       "    </tr>\n",
       "  </thead>\n",
       "  <tbody>\n",
       "    <tr>\n",
       "      <th>Bailey High School</th>\n",
       "      <td>Government</td>\n",
       "      <td>4976</td>\n",
       "      <td>3124928.0</td>\n",
       "      <td>628.0</td>\n",
       "      <td>72.352894</td>\n",
       "      <td>71.008842</td>\n",
       "      <td>91.639871</td>\n",
       "      <td>87.379421</td>\n",
       "      <td>80.084405</td>\n",
       "    </tr>\n",
       "    <tr>\n",
       "      <th>Cabrera High School</th>\n",
       "      <td>Independent</td>\n",
       "      <td>1858</td>\n",
       "      <td>1081356.0</td>\n",
       "      <td>582.0</td>\n",
       "      <td>71.657158</td>\n",
       "      <td>71.359526</td>\n",
       "      <td>90.850377</td>\n",
       "      <td>89.074273</td>\n",
       "      <td>80.785791</td>\n",
       "    </tr>\n",
       "    <tr>\n",
       "      <th>Figueroa High School</th>\n",
       "      <td>Government</td>\n",
       "      <td>2949</td>\n",
       "      <td>1884411.0</td>\n",
       "      <td>639.0</td>\n",
       "      <td>68.698542</td>\n",
       "      <td>69.077993</td>\n",
       "      <td>81.654798</td>\n",
       "      <td>82.807731</td>\n",
       "      <td>67.650051</td>\n",
       "    </tr>\n",
       "    <tr>\n",
       "      <th>Ford High School</th>\n",
       "      <td>Government</td>\n",
       "      <td>2739</td>\n",
       "      <td>1763916.0</td>\n",
       "      <td>644.0</td>\n",
       "      <td>69.091274</td>\n",
       "      <td>69.572472</td>\n",
       "      <td>82.438846</td>\n",
       "      <td>82.219788</td>\n",
       "      <td>67.469880</td>\n",
       "    </tr>\n",
       "    <tr>\n",
       "      <th>Griffin High School</th>\n",
       "      <td>Independent</td>\n",
       "      <td>1468</td>\n",
       "      <td>917500.0</td>\n",
       "      <td>625.0</td>\n",
       "      <td>71.788147</td>\n",
       "      <td>71.245232</td>\n",
       "      <td>91.212534</td>\n",
       "      <td>88.487738</td>\n",
       "      <td>81.335150</td>\n",
       "    </tr>\n",
       "    <tr>\n",
       "      <th>Hernandez High School</th>\n",
       "      <td>Government</td>\n",
       "      <td>4635</td>\n",
       "      <td>3022020.0</td>\n",
       "      <td>652.0</td>\n",
       "      <td>68.874865</td>\n",
       "      <td>69.186408</td>\n",
       "      <td>80.949299</td>\n",
       "      <td>81.877023</td>\n",
       "      <td>66.364617</td>\n",
       "    </tr>\n",
       "    <tr>\n",
       "      <th>Holden High School</th>\n",
       "      <td>Independent</td>\n",
       "      <td>427</td>\n",
       "      <td>248087.0</td>\n",
       "      <td>581.0</td>\n",
       "      <td>72.583138</td>\n",
       "      <td>71.660422</td>\n",
       "      <td>89.929742</td>\n",
       "      <td>88.524590</td>\n",
       "      <td>78.922717</td>\n",
       "    </tr>\n",
       "    <tr>\n",
       "      <th>Huang High School</th>\n",
       "      <td>Government</td>\n",
       "      <td>2917</td>\n",
       "      <td>1910635.0</td>\n",
       "      <td>655.0</td>\n",
       "      <td>68.935207</td>\n",
       "      <td>68.910525</td>\n",
       "      <td>81.693521</td>\n",
       "      <td>81.453548</td>\n",
       "      <td>66.712376</td>\n",
       "    </tr>\n",
       "    <tr>\n",
       "      <th>Johnson High School</th>\n",
       "      <td>Government</td>\n",
       "      <td>4761</td>\n",
       "      <td>3094650.0</td>\n",
       "      <td>650.0</td>\n",
       "      <td>68.843100</td>\n",
       "      <td>69.039277</td>\n",
       "      <td>82.062592</td>\n",
       "      <td>81.978576</td>\n",
       "      <td>67.191766</td>\n",
       "    </tr>\n",
       "    <tr>\n",
       "      <th>Pena High School</th>\n",
       "      <td>Independent</td>\n",
       "      <td>962</td>\n",
       "      <td>585858.0</td>\n",
       "      <td>609.0</td>\n",
       "      <td>72.088358</td>\n",
       "      <td>71.613306</td>\n",
       "      <td>91.683992</td>\n",
       "      <td>86.590437</td>\n",
       "      <td>79.209979</td>\n",
       "    </tr>\n",
       "    <tr>\n",
       "      <th>Rodriguez High School</th>\n",
       "      <td>Government</td>\n",
       "      <td>3999</td>\n",
       "      <td>2547363.0</td>\n",
       "      <td>637.0</td>\n",
       "      <td>72.047762</td>\n",
       "      <td>70.935984</td>\n",
       "      <td>90.797699</td>\n",
       "      <td>87.396849</td>\n",
       "      <td>79.419855</td>\n",
       "    </tr>\n",
       "    <tr>\n",
       "      <th>Shelton High School</th>\n",
       "      <td>Independent</td>\n",
       "      <td>1761</td>\n",
       "      <td>1056600.0</td>\n",
       "      <td>600.0</td>\n",
       "      <td>72.034072</td>\n",
       "      <td>70.257808</td>\n",
       "      <td>91.538898</td>\n",
       "      <td>86.712095</td>\n",
       "      <td>78.875639</td>\n",
       "    </tr>\n",
       "    <tr>\n",
       "      <th>Thomas High School</th>\n",
       "      <td>Independent</td>\n",
       "      <td>1635</td>\n",
       "      <td>1043130.0</td>\n",
       "      <td>638.0</td>\n",
       "      <td>69.581651</td>\n",
       "      <td>69.768807</td>\n",
       "      <td>83.853211</td>\n",
       "      <td>82.629969</td>\n",
       "      <td>69.480122</td>\n",
       "    </tr>\n",
       "    <tr>\n",
       "      <th>Wilson High School</th>\n",
       "      <td>Independent</td>\n",
       "      <td>2283</td>\n",
       "      <td>1319574.0</td>\n",
       "      <td>578.0</td>\n",
       "      <td>69.170828</td>\n",
       "      <td>68.876916</td>\n",
       "      <td>82.785808</td>\n",
       "      <td>81.296540</td>\n",
       "      <td>67.455103</td>\n",
       "    </tr>\n",
       "    <tr>\n",
       "      <th>Wright High School</th>\n",
       "      <td>Independent</td>\n",
       "      <td>1800</td>\n",
       "      <td>1049400.0</td>\n",
       "      <td>583.0</td>\n",
       "      <td>72.047222</td>\n",
       "      <td>70.969444</td>\n",
       "      <td>91.777778</td>\n",
       "      <td>86.666667</td>\n",
       "      <td>79.722222</td>\n",
       "    </tr>\n",
       "  </tbody>\n",
       "</table>\n",
       "</div>"
      ],
      "text/plain": [
       "                       School Type  Total Students  Total School Budget  \\\n",
       "School Name                                                               \n",
       "Bailey High School      Government            4976            3124928.0   \n",
       "Cabrera High School    Independent            1858            1081356.0   \n",
       "Figueroa High School    Government            2949            1884411.0   \n",
       "Ford High School        Government            2739            1763916.0   \n",
       "Griffin High School    Independent            1468             917500.0   \n",
       "Hernandez High School   Government            4635            3022020.0   \n",
       "Holden High School     Independent             427             248087.0   \n",
       "Huang High School       Government            2917            1910635.0   \n",
       "Johnson High School     Government            4761            3094650.0   \n",
       "Pena High School       Independent             962             585858.0   \n",
       "Rodriguez High School   Government            3999            2547363.0   \n",
       "Shelton High School    Independent            1761            1056600.0   \n",
       "Thomas High School     Independent            1635            1043130.0   \n",
       "Wilson High School     Independent            2283            1319574.0   \n",
       "Wright High School     Independent            1800            1049400.0   \n",
       "\n",
       "                       Per Student Budget  Average Maths Score  \\\n",
       "School Name                                                      \n",
       "Bailey High School                  628.0            72.352894   \n",
       "Cabrera High School                 582.0            71.657158   \n",
       "Figueroa High School                639.0            68.698542   \n",
       "Ford High School                    644.0            69.091274   \n",
       "Griffin High School                 625.0            71.788147   \n",
       "Hernandez High School               652.0            68.874865   \n",
       "Holden High School                  581.0            72.583138   \n",
       "Huang High School                   655.0            68.935207   \n",
       "Johnson High School                 650.0            68.843100   \n",
       "Pena High School                    609.0            72.088358   \n",
       "Rodriguez High School               637.0            72.047762   \n",
       "Shelton High School                 600.0            72.034072   \n",
       "Thomas High School                  638.0            69.581651   \n",
       "Wilson High School                  578.0            69.170828   \n",
       "Wright High School                  583.0            72.047222   \n",
       "\n",
       "                       Average Reading Score  % Passing Maths  \\\n",
       "School Name                                                     \n",
       "Bailey High School                 71.008842        91.639871   \n",
       "Cabrera High School                71.359526        90.850377   \n",
       "Figueroa High School               69.077993        81.654798   \n",
       "Ford High School                   69.572472        82.438846   \n",
       "Griffin High School                71.245232        91.212534   \n",
       "Hernandez High School              69.186408        80.949299   \n",
       "Holden High School                 71.660422        89.929742   \n",
       "Huang High School                  68.910525        81.693521   \n",
       "Johnson High School                69.039277        82.062592   \n",
       "Pena High School                   71.613306        91.683992   \n",
       "Rodriguez High School              70.935984        90.797699   \n",
       "Shelton High School                70.257808        91.538898   \n",
       "Thomas High School                 69.768807        83.853211   \n",
       "Wilson High School                 68.876916        82.785808   \n",
       "Wright High School                 70.969444        91.777778   \n",
       "\n",
       "                       % Passing Reading  % Passing Overall  \n",
       "School Name                                                  \n",
       "Bailey High School             87.379421          80.084405  \n",
       "Cabrera High School            89.074273          80.785791  \n",
       "Figueroa High School           82.807731          67.650051  \n",
       "Ford High School               82.219788          67.469880  \n",
       "Griffin High School            88.487738          81.335150  \n",
       "Hernandez High School          81.877023          66.364617  \n",
       "Holden High School             88.524590          78.922717  \n",
       "Huang High School              81.453548          66.712376  \n",
       "Johnson High School            81.978576          67.191766  \n",
       "Pena High School               86.590437          79.209979  \n",
       "Rodriguez High School          87.396849          79.419855  \n",
       "Shelton High School            86.712095          78.875639  \n",
       "Thomas High School             82.629969          69.480122  \n",
       "Wilson High School             81.296540          67.455103  \n",
       "Wright High School             86.666667          79.722222  "
      ]
     },
     "execution_count": 973,
     "metadata": {},
     "output_type": "execute_result"
    }
   ],
   "source": [
    "#print school summary df\n",
    "schoolsummary_df"
   ]
  },
  {
   "cell_type": "code",
   "execution_count": 974,
   "id": "f5abe7c0",
   "metadata": {},
   "outputs": [],
   "source": [
    "#sort school summary to show best performing schools,\n",
    "top_schools = schoolsummary_df.sort_values('% Passing Overall', ascending=False).head(5)"
   ]
  },
  {
   "cell_type": "markdown",
   "id": "8726a3d6",
   "metadata": {},
   "source": [
    "# Top Performing Schools (By % Overall Passing)"
   ]
  },
  {
   "cell_type": "code",
   "execution_count": 975,
   "id": "363e96a4-07d2-4dca-91c9-b3389fb9d060",
   "metadata": {},
   "outputs": [
    {
     "data": {
      "text/html": [
       "<div>\n",
       "<style scoped>\n",
       "    .dataframe tbody tr th:only-of-type {\n",
       "        vertical-align: middle;\n",
       "    }\n",
       "\n",
       "    .dataframe tbody tr th {\n",
       "        vertical-align: top;\n",
       "    }\n",
       "\n",
       "    .dataframe thead th {\n",
       "        text-align: right;\n",
       "    }\n",
       "</style>\n",
       "<table border=\"1\" class=\"dataframe\">\n",
       "  <thead>\n",
       "    <tr style=\"text-align: right;\">\n",
       "      <th></th>\n",
       "      <th>School Type</th>\n",
       "      <th>Total Students</th>\n",
       "      <th>Total School Budget</th>\n",
       "      <th>Per Student Budget</th>\n",
       "      <th>Average Maths Score</th>\n",
       "      <th>Average Reading Score</th>\n",
       "      <th>% Passing Maths</th>\n",
       "      <th>% Passing Reading</th>\n",
       "      <th>% Passing Overall</th>\n",
       "    </tr>\n",
       "    <tr>\n",
       "      <th>School Name</th>\n",
       "      <th></th>\n",
       "      <th></th>\n",
       "      <th></th>\n",
       "      <th></th>\n",
       "      <th></th>\n",
       "      <th></th>\n",
       "      <th></th>\n",
       "      <th></th>\n",
       "      <th></th>\n",
       "    </tr>\n",
       "  </thead>\n",
       "  <tbody>\n",
       "    <tr>\n",
       "      <th>Griffin High School</th>\n",
       "      <td>Independent</td>\n",
       "      <td>1468</td>\n",
       "      <td>917500.0</td>\n",
       "      <td>625.0</td>\n",
       "      <td>71.788147</td>\n",
       "      <td>71.245232</td>\n",
       "      <td>91.212534</td>\n",
       "      <td>88.487738</td>\n",
       "      <td>81.335150</td>\n",
       "    </tr>\n",
       "    <tr>\n",
       "      <th>Cabrera High School</th>\n",
       "      <td>Independent</td>\n",
       "      <td>1858</td>\n",
       "      <td>1081356.0</td>\n",
       "      <td>582.0</td>\n",
       "      <td>71.657158</td>\n",
       "      <td>71.359526</td>\n",
       "      <td>90.850377</td>\n",
       "      <td>89.074273</td>\n",
       "      <td>80.785791</td>\n",
       "    </tr>\n",
       "    <tr>\n",
       "      <th>Bailey High School</th>\n",
       "      <td>Government</td>\n",
       "      <td>4976</td>\n",
       "      <td>3124928.0</td>\n",
       "      <td>628.0</td>\n",
       "      <td>72.352894</td>\n",
       "      <td>71.008842</td>\n",
       "      <td>91.639871</td>\n",
       "      <td>87.379421</td>\n",
       "      <td>80.084405</td>\n",
       "    </tr>\n",
       "    <tr>\n",
       "      <th>Wright High School</th>\n",
       "      <td>Independent</td>\n",
       "      <td>1800</td>\n",
       "      <td>1049400.0</td>\n",
       "      <td>583.0</td>\n",
       "      <td>72.047222</td>\n",
       "      <td>70.969444</td>\n",
       "      <td>91.777778</td>\n",
       "      <td>86.666667</td>\n",
       "      <td>79.722222</td>\n",
       "    </tr>\n",
       "    <tr>\n",
       "      <th>Rodriguez High School</th>\n",
       "      <td>Government</td>\n",
       "      <td>3999</td>\n",
       "      <td>2547363.0</td>\n",
       "      <td>637.0</td>\n",
       "      <td>72.047762</td>\n",
       "      <td>70.935984</td>\n",
       "      <td>90.797699</td>\n",
       "      <td>87.396849</td>\n",
       "      <td>79.419855</td>\n",
       "    </tr>\n",
       "  </tbody>\n",
       "</table>\n",
       "</div>"
      ],
      "text/plain": [
       "                       School Type  Total Students  Total School Budget  \\\n",
       "School Name                                                               \n",
       "Griffin High School    Independent            1468             917500.0   \n",
       "Cabrera High School    Independent            1858            1081356.0   \n",
       "Bailey High School      Government            4976            3124928.0   \n",
       "Wright High School     Independent            1800            1049400.0   \n",
       "Rodriguez High School   Government            3999            2547363.0   \n",
       "\n",
       "                       Per Student Budget  Average Maths Score  \\\n",
       "School Name                                                      \n",
       "Griffin High School                 625.0            71.788147   \n",
       "Cabrera High School                 582.0            71.657158   \n",
       "Bailey High School                  628.0            72.352894   \n",
       "Wright High School                  583.0            72.047222   \n",
       "Rodriguez High School               637.0            72.047762   \n",
       "\n",
       "                       Average Reading Score  % Passing Maths  \\\n",
       "School Name                                                     \n",
       "Griffin High School                71.245232        91.212534   \n",
       "Cabrera High School                71.359526        90.850377   \n",
       "Bailey High School                 71.008842        91.639871   \n",
       "Wright High School                 70.969444        91.777778   \n",
       "Rodriguez High School              70.935984        90.797699   \n",
       "\n",
       "                       % Passing Reading  % Passing Overall  \n",
       "School Name                                                  \n",
       "Griffin High School            88.487738          81.335150  \n",
       "Cabrera High School            89.074273          80.785791  \n",
       "Bailey High School             87.379421          80.084405  \n",
       "Wright High School             86.666667          79.722222  \n",
       "Rodriguez High School          87.396849          79.419855  "
      ]
     },
     "execution_count": 975,
     "metadata": {},
     "output_type": "execute_result"
    }
   ],
   "source": [
    "top_schools"
   ]
  },
  {
   "cell_type": "code",
   "execution_count": 976,
   "id": "441edbf5",
   "metadata": {},
   "outputs": [],
   "source": [
    "#sort school summary to show worst performing schools\n",
    "bottom_schools = schoolsummary_df.sort_values('% Passing Overall', ascending=True).head(5)"
   ]
  },
  {
   "cell_type": "markdown",
   "id": "f48d78d4",
   "metadata": {},
   "source": [
    "# Bottom Performing Schools (By % Overall Passing)"
   ]
  },
  {
   "cell_type": "code",
   "execution_count": 977,
   "id": "50061f30-e5df-44ca-9064-7f421e05c3da",
   "metadata": {},
   "outputs": [
    {
     "data": {
      "text/html": [
       "<div>\n",
       "<style scoped>\n",
       "    .dataframe tbody tr th:only-of-type {\n",
       "        vertical-align: middle;\n",
       "    }\n",
       "\n",
       "    .dataframe tbody tr th {\n",
       "        vertical-align: top;\n",
       "    }\n",
       "\n",
       "    .dataframe thead th {\n",
       "        text-align: right;\n",
       "    }\n",
       "</style>\n",
       "<table border=\"1\" class=\"dataframe\">\n",
       "  <thead>\n",
       "    <tr style=\"text-align: right;\">\n",
       "      <th></th>\n",
       "      <th>School Type</th>\n",
       "      <th>Total Students</th>\n",
       "      <th>Total School Budget</th>\n",
       "      <th>Per Student Budget</th>\n",
       "      <th>Average Maths Score</th>\n",
       "      <th>Average Reading Score</th>\n",
       "      <th>% Passing Maths</th>\n",
       "      <th>% Passing Reading</th>\n",
       "      <th>% Passing Overall</th>\n",
       "    </tr>\n",
       "    <tr>\n",
       "      <th>School Name</th>\n",
       "      <th></th>\n",
       "      <th></th>\n",
       "      <th></th>\n",
       "      <th></th>\n",
       "      <th></th>\n",
       "      <th></th>\n",
       "      <th></th>\n",
       "      <th></th>\n",
       "      <th></th>\n",
       "    </tr>\n",
       "  </thead>\n",
       "  <tbody>\n",
       "    <tr>\n",
       "      <th>Hernandez High School</th>\n",
       "      <td>Government</td>\n",
       "      <td>4635</td>\n",
       "      <td>3022020.0</td>\n",
       "      <td>652.0</td>\n",
       "      <td>68.874865</td>\n",
       "      <td>69.186408</td>\n",
       "      <td>80.949299</td>\n",
       "      <td>81.877023</td>\n",
       "      <td>66.364617</td>\n",
       "    </tr>\n",
       "    <tr>\n",
       "      <th>Huang High School</th>\n",
       "      <td>Government</td>\n",
       "      <td>2917</td>\n",
       "      <td>1910635.0</td>\n",
       "      <td>655.0</td>\n",
       "      <td>68.935207</td>\n",
       "      <td>68.910525</td>\n",
       "      <td>81.693521</td>\n",
       "      <td>81.453548</td>\n",
       "      <td>66.712376</td>\n",
       "    </tr>\n",
       "    <tr>\n",
       "      <th>Johnson High School</th>\n",
       "      <td>Government</td>\n",
       "      <td>4761</td>\n",
       "      <td>3094650.0</td>\n",
       "      <td>650.0</td>\n",
       "      <td>68.843100</td>\n",
       "      <td>69.039277</td>\n",
       "      <td>82.062592</td>\n",
       "      <td>81.978576</td>\n",
       "      <td>67.191766</td>\n",
       "    </tr>\n",
       "    <tr>\n",
       "      <th>Wilson High School</th>\n",
       "      <td>Independent</td>\n",
       "      <td>2283</td>\n",
       "      <td>1319574.0</td>\n",
       "      <td>578.0</td>\n",
       "      <td>69.170828</td>\n",
       "      <td>68.876916</td>\n",
       "      <td>82.785808</td>\n",
       "      <td>81.296540</td>\n",
       "      <td>67.455103</td>\n",
       "    </tr>\n",
       "    <tr>\n",
       "      <th>Ford High School</th>\n",
       "      <td>Government</td>\n",
       "      <td>2739</td>\n",
       "      <td>1763916.0</td>\n",
       "      <td>644.0</td>\n",
       "      <td>69.091274</td>\n",
       "      <td>69.572472</td>\n",
       "      <td>82.438846</td>\n",
       "      <td>82.219788</td>\n",
       "      <td>67.469880</td>\n",
       "    </tr>\n",
       "  </tbody>\n",
       "</table>\n",
       "</div>"
      ],
      "text/plain": [
       "                       School Type  Total Students  Total School Budget  \\\n",
       "School Name                                                               \n",
       "Hernandez High School   Government            4635            3022020.0   \n",
       "Huang High School       Government            2917            1910635.0   \n",
       "Johnson High School     Government            4761            3094650.0   \n",
       "Wilson High School     Independent            2283            1319574.0   \n",
       "Ford High School        Government            2739            1763916.0   \n",
       "\n",
       "                       Per Student Budget  Average Maths Score  \\\n",
       "School Name                                                      \n",
       "Hernandez High School               652.0            68.874865   \n",
       "Huang High School                   655.0            68.935207   \n",
       "Johnson High School                 650.0            68.843100   \n",
       "Wilson High School                  578.0            69.170828   \n",
       "Ford High School                    644.0            69.091274   \n",
       "\n",
       "                       Average Reading Score  % Passing Maths  \\\n",
       "School Name                                                     \n",
       "Hernandez High School              69.186408        80.949299   \n",
       "Huang High School                  68.910525        81.693521   \n",
       "Johnson High School                69.039277        82.062592   \n",
       "Wilson High School                 68.876916        82.785808   \n",
       "Ford High School                   69.572472        82.438846   \n",
       "\n",
       "                       % Passing Reading  % Passing Overall  \n",
       "School Name                                                  \n",
       "Hernandez High School          81.877023          66.364617  \n",
       "Huang High School              81.453548          66.712376  \n",
       "Johnson High School            81.978576          67.191766  \n",
       "Wilson High School             81.296540          67.455103  \n",
       "Ford High School               82.219788          67.469880  "
      ]
     },
     "execution_count": 977,
     "metadata": {},
     "output_type": "execute_result"
    }
   ],
   "source": [
    "bottom_schools"
   ]
  },
  {
   "cell_type": "code",
   "execution_count": 978,
   "id": "8da25fa0-5d44-4f90-afdd-95705c900fc0",
   "metadata": {},
   "outputs": [],
   "source": [
    "#filter by year 9 students only\n",
    "year9_locate = school_data_complete.loc[school_data_complete['year']==9,:]"
   ]
  },
  {
   "cell_type": "code",
   "execution_count": 979,
   "id": "362e7a94-0d39-435a-b8d4-be8e259421e0",
   "metadata": {},
   "outputs": [
    {
     "data": {
      "text/plain": [
       "school_name\n",
       "Bailey High School       72.493827\n",
       "Cabrera High School      72.321970\n",
       "Figueroa High School     68.477804\n",
       "Ford High School         69.021609\n",
       "Griffin High School      72.789731\n",
       "Hernandez High School    68.586831\n",
       "Holden High School       70.543307\n",
       "Huang High School        69.081754\n",
       "Johnson High School      69.469286\n",
       "Pena High School         71.996364\n",
       "Rodriguez High School    71.940722\n",
       "Shelton High School      72.932075\n",
       "Thomas High School       69.234273\n",
       "Wilson High School       69.212361\n",
       "Wright High School       71.741176\n",
       "Name: maths_score, dtype: float64"
      ]
     },
     "execution_count": 979,
     "metadata": {},
     "output_type": "execute_result"
    }
   ],
   "source": [
    "#average maths scores for each schools year 9's\n",
    "year9_mathsscore_ave = year9_locate.groupby(['school_name'])['maths_score'].mean()\n",
    "year9_mathsscore_ave"
   ]
  },
  {
   "cell_type": "code",
   "execution_count": 980,
   "id": "786a911e-ec5b-438d-8165-9b991e6eb3ff",
   "metadata": {},
   "outputs": [],
   "source": [
    "#filter by year 10's only\n",
    "year10_locate = school_data_complete.loc[school_data_complete['year']==10,:]"
   ]
  },
  {
   "cell_type": "code",
   "execution_count": 981,
   "id": "704dfbdf-3b85-40bb-9f90-b4e4cd149457",
   "metadata": {},
   "outputs": [
    {
     "data": {
      "text/plain": [
       "school_name\n",
       "Bailey High School       71.897498\n",
       "Cabrera High School      72.437768\n",
       "Figueroa High School     68.331586\n",
       "Ford High School         69.387006\n",
       "Griffin High School      71.093596\n",
       "Hernandez High School    68.867156\n",
       "Holden High School       75.105263\n",
       "Huang High School        68.533246\n",
       "Johnson High School      67.990220\n",
       "Pena High School         72.396000\n",
       "Rodriguez High School    71.779808\n",
       "Shelton High School      72.506696\n",
       "Thomas High School       70.057007\n",
       "Wilson High School       69.455446\n",
       "Wright High School       72.179012\n",
       "Name: maths_score, dtype: float64"
      ]
     },
     "execution_count": 981,
     "metadata": {},
     "output_type": "execute_result"
    }
   ],
   "source": [
    "#average maths score of year 10 students at each school\n",
    "year10_mathsscore_ave = year10_locate.groupby(['school_name'])['maths_score'].mean()\n",
    "year10_mathsscore_ave"
   ]
  },
  {
   "cell_type": "code",
   "execution_count": 982,
   "id": "c1c395de-d649-4123-b370-492cd13660e4",
   "metadata": {},
   "outputs": [],
   "source": [
    "#filter by year 11's only\n",
    "year11_locate = school_data_complete.loc[school_data_complete['year']==11,:]"
   ]
  },
  {
   "cell_type": "code",
   "execution_count": 983,
   "id": "bbe5d51b-69bc-41f7-90ab-649fd36a4a0f",
   "metadata": {},
   "outputs": [
    {
     "data": {
      "text/plain": [
       "school_name\n",
       "Bailey High School       72.374900\n",
       "Cabrera High School      71.008299\n",
       "Figueroa High School     68.811001\n",
       "Ford High School         69.248862\n",
       "Griffin High School      71.692521\n",
       "Hernandez High School    69.154412\n",
       "Holden High School       71.640777\n",
       "Huang High School        69.431345\n",
       "Johnson High School      68.637730\n",
       "Pena High School         72.523438\n",
       "Rodriguez High School    72.364811\n",
       "Shelton High School      70.097087\n",
       "Thomas High School       69.657831\n",
       "Wilson High School       68.378965\n",
       "Wright High School       73.275862\n",
       "Name: maths_score, dtype: float64"
      ]
     },
     "execution_count": 983,
     "metadata": {},
     "output_type": "execute_result"
    }
   ],
   "source": [
    "#average maths scores of year 11's at ecah school\n",
    "year11_mathsscore_ave = year11_locate.groupby(['school_name'])['maths_score'].mean()\n",
    "year11_mathsscore_ave"
   ]
  },
  {
   "cell_type": "code",
   "execution_count": 984,
   "id": "8515658b-dbea-4784-8efe-2c1aa65e8719",
   "metadata": {},
   "outputs": [],
   "source": [
    "#filter by year 12's only\n",
    "year12_locate = school_data_complete.loc[school_data_complete['year']==12,:]"
   ]
  },
  {
   "cell_type": "code",
   "execution_count": 985,
   "id": "78661917-df2e-4165-bbb4-aac7d65a1d4b",
   "metadata": {},
   "outputs": [
    {
     "data": {
      "text/plain": [
       "school_name\n",
       "Bailey High School       72.675097\n",
       "Cabrera High School      70.604712\n",
       "Figueroa High School     69.325282\n",
       "Ford High School         68.617811\n",
       "Griffin High School      71.469178\n",
       "Hernandez High School    68.985075\n",
       "Holden High School       73.409639\n",
       "Huang High School        68.639316\n",
       "Johnson High School      69.287393\n",
       "Pena High School         71.187845\n",
       "Rodriguez High School    72.154626\n",
       "Shelton High School      72.331536\n",
       "Thomas High School       69.369822\n",
       "Wilson High School       69.787472\n",
       "Wright High School       70.848238\n",
       "Name: maths_score, dtype: float64"
      ]
     },
     "execution_count": 985,
     "metadata": {},
     "output_type": "execute_result"
    }
   ],
   "source": [
    "#average maths score of year 12's at each school\n",
    "year12_mathsscore_ave = year12_locate.groupby(['school_name'])['maths_score'].mean()\n",
    "year12_mathsscore_ave"
   ]
  },
  {
   "cell_type": "code",
   "execution_count": 986,
   "id": "fe2a2a2b-01f8-4ab7-aadb-f7ccfbf3e9c4",
   "metadata": {},
   "outputs": [],
   "source": [
    "#set index column for scores per year group to school name\n",
    "mathsscorebyyear_df = pd.DataFrame(index=school_name_index.index)"
   ]
  },
  {
   "cell_type": "code",
   "execution_count": 987,
   "id": "509e6657-04dc-49a2-b51e-04aa4c6354fc",
   "metadata": {},
   "outputs": [],
   "source": [
    "#add columns to maths scores per year group\n",
    "mathsscorebyyear_df['Year 9'] = year9_mathsscore_ave\n",
    "mathsscorebyyear_df['Year 10'] = year10_mathsscore_ave\n",
    "mathsscorebyyear_df['Year 11'] = year11_mathsscore_ave\n",
    "mathsscorebyyear_df['Year 12'] = year12_mathsscore_ave"
   ]
  },
  {
   "cell_type": "code",
   "execution_count": 988,
   "id": "518febaa",
   "metadata": {},
   "outputs": [],
   "source": [
    "#format cells\n",
    "mathsscorebyyear_df['Year 9'] = mathsscorebyyear_df['Year 9'].map('{:.2f}'.format)\n",
    "mathsscorebyyear_df['Year 10'] = mathsscorebyyear_df['Year 10'].map('{:.2f}'.format)\n",
    "mathsscorebyyear_df['Year 11'] = mathsscorebyyear_df['Year 11'].map('{:.2f}'.format)\n",
    "mathsscorebyyear_df['Year 12'] = mathsscorebyyear_df['Year 12'].map('{:.2f}'.format)"
   ]
  },
  {
   "cell_type": "code",
   "execution_count": 989,
   "id": "83ce3766",
   "metadata": {},
   "outputs": [],
   "source": [
    "#sort by alphabetical order\n",
    "mathsscorebyyear_df = mathsscorebyyear_df.sort_values(['School Name'])"
   ]
  },
  {
   "cell_type": "markdown",
   "id": "31163a88",
   "metadata": {},
   "source": [
    "# Maths Scores by Year"
   ]
  },
  {
   "cell_type": "code",
   "execution_count": 990,
   "id": "3d87f936-5b15-43a1-b2af-1424692b63e1",
   "metadata": {},
   "outputs": [
    {
     "data": {
      "text/html": [
       "<div>\n",
       "<style scoped>\n",
       "    .dataframe tbody tr th:only-of-type {\n",
       "        vertical-align: middle;\n",
       "    }\n",
       "\n",
       "    .dataframe tbody tr th {\n",
       "        vertical-align: top;\n",
       "    }\n",
       "\n",
       "    .dataframe thead th {\n",
       "        text-align: right;\n",
       "    }\n",
       "</style>\n",
       "<table border=\"1\" class=\"dataframe\">\n",
       "  <thead>\n",
       "    <tr style=\"text-align: right;\">\n",
       "      <th></th>\n",
       "      <th>Year 9</th>\n",
       "      <th>Year 10</th>\n",
       "      <th>Year 11</th>\n",
       "      <th>Year 12</th>\n",
       "    </tr>\n",
       "    <tr>\n",
       "      <th>School Name</th>\n",
       "      <th></th>\n",
       "      <th></th>\n",
       "      <th></th>\n",
       "      <th></th>\n",
       "    </tr>\n",
       "  </thead>\n",
       "  <tbody>\n",
       "    <tr>\n",
       "      <th>Bailey High School</th>\n",
       "      <td>72.49</td>\n",
       "      <td>71.90</td>\n",
       "      <td>72.37</td>\n",
       "      <td>72.68</td>\n",
       "    </tr>\n",
       "    <tr>\n",
       "      <th>Cabrera High School</th>\n",
       "      <td>72.32</td>\n",
       "      <td>72.44</td>\n",
       "      <td>71.01</td>\n",
       "      <td>70.60</td>\n",
       "    </tr>\n",
       "    <tr>\n",
       "      <th>Figueroa High School</th>\n",
       "      <td>68.48</td>\n",
       "      <td>68.33</td>\n",
       "      <td>68.81</td>\n",
       "      <td>69.33</td>\n",
       "    </tr>\n",
       "    <tr>\n",
       "      <th>Ford High School</th>\n",
       "      <td>69.02</td>\n",
       "      <td>69.39</td>\n",
       "      <td>69.25</td>\n",
       "      <td>68.62</td>\n",
       "    </tr>\n",
       "    <tr>\n",
       "      <th>Griffin High School</th>\n",
       "      <td>72.79</td>\n",
       "      <td>71.09</td>\n",
       "      <td>71.69</td>\n",
       "      <td>71.47</td>\n",
       "    </tr>\n",
       "    <tr>\n",
       "      <th>Hernandez High School</th>\n",
       "      <td>68.59</td>\n",
       "      <td>68.87</td>\n",
       "      <td>69.15</td>\n",
       "      <td>68.99</td>\n",
       "    </tr>\n",
       "    <tr>\n",
       "      <th>Holden High School</th>\n",
       "      <td>70.54</td>\n",
       "      <td>75.11</td>\n",
       "      <td>71.64</td>\n",
       "      <td>73.41</td>\n",
       "    </tr>\n",
       "    <tr>\n",
       "      <th>Huang High School</th>\n",
       "      <td>69.08</td>\n",
       "      <td>68.53</td>\n",
       "      <td>69.43</td>\n",
       "      <td>68.64</td>\n",
       "    </tr>\n",
       "    <tr>\n",
       "      <th>Johnson High School</th>\n",
       "      <td>69.47</td>\n",
       "      <td>67.99</td>\n",
       "      <td>68.64</td>\n",
       "      <td>69.29</td>\n",
       "    </tr>\n",
       "    <tr>\n",
       "      <th>Pena High School</th>\n",
       "      <td>72.00</td>\n",
       "      <td>72.40</td>\n",
       "      <td>72.52</td>\n",
       "      <td>71.19</td>\n",
       "    </tr>\n",
       "    <tr>\n",
       "      <th>Rodriguez High School</th>\n",
       "      <td>71.94</td>\n",
       "      <td>71.78</td>\n",
       "      <td>72.36</td>\n",
       "      <td>72.15</td>\n",
       "    </tr>\n",
       "    <tr>\n",
       "      <th>Shelton High School</th>\n",
       "      <td>72.93</td>\n",
       "      <td>72.51</td>\n",
       "      <td>70.10</td>\n",
       "      <td>72.33</td>\n",
       "    </tr>\n",
       "    <tr>\n",
       "      <th>Thomas High School</th>\n",
       "      <td>69.23</td>\n",
       "      <td>70.06</td>\n",
       "      <td>69.66</td>\n",
       "      <td>69.37</td>\n",
       "    </tr>\n",
       "    <tr>\n",
       "      <th>Wilson High School</th>\n",
       "      <td>69.21</td>\n",
       "      <td>69.46</td>\n",
       "      <td>68.38</td>\n",
       "      <td>69.79</td>\n",
       "    </tr>\n",
       "    <tr>\n",
       "      <th>Wright High School</th>\n",
       "      <td>71.74</td>\n",
       "      <td>72.18</td>\n",
       "      <td>73.28</td>\n",
       "      <td>70.85</td>\n",
       "    </tr>\n",
       "  </tbody>\n",
       "</table>\n",
       "</div>"
      ],
      "text/plain": [
       "                      Year 9 Year 10 Year 11 Year 12\n",
       "School Name                                         \n",
       "Bailey High School     72.49   71.90   72.37   72.68\n",
       "Cabrera High School    72.32   72.44   71.01   70.60\n",
       "Figueroa High School   68.48   68.33   68.81   69.33\n",
       "Ford High School       69.02   69.39   69.25   68.62\n",
       "Griffin High School    72.79   71.09   71.69   71.47\n",
       "Hernandez High School  68.59   68.87   69.15   68.99\n",
       "Holden High School     70.54   75.11   71.64   73.41\n",
       "Huang High School      69.08   68.53   69.43   68.64\n",
       "Johnson High School    69.47   67.99   68.64   69.29\n",
       "Pena High School       72.00   72.40   72.52   71.19\n",
       "Rodriguez High School  71.94   71.78   72.36   72.15\n",
       "Shelton High School    72.93   72.51   70.10   72.33\n",
       "Thomas High School     69.23   70.06   69.66   69.37\n",
       "Wilson High School     69.21   69.46   68.38   69.79\n",
       "Wright High School     71.74   72.18   73.28   70.85"
      ]
     },
     "execution_count": 990,
     "metadata": {},
     "output_type": "execute_result"
    }
   ],
   "source": [
    "#print maths scores df\n",
    "mathsscorebyyear_df"
   ]
  },
  {
   "cell_type": "code",
   "execution_count": 991,
   "id": "a3aa7077-7df2-4050-90e5-5ba3e66b5b76",
   "metadata": {},
   "outputs": [
    {
     "data": {
      "text/plain": [
       "school_name\n",
       "Bailey High School       70.901920\n",
       "Cabrera High School      71.172348\n",
       "Figueroa High School     70.261682\n",
       "Ford High School         69.615846\n",
       "Griffin High School      72.026895\n",
       "Hernandez High School    68.477569\n",
       "Holden High School       71.598425\n",
       "Huang High School        68.670616\n",
       "Johnson High School      68.719286\n",
       "Pena High School         70.949091\n",
       "Rodriguez High School    70.902921\n",
       "Shelton High School      70.715094\n",
       "Thomas High School       69.672451\n",
       "Wilson High School       68.683043\n",
       "Wright High School       71.823529\n",
       "Name: reading_score, dtype: float64"
      ]
     },
     "execution_count": 991,
     "metadata": {},
     "output_type": "execute_result"
    }
   ],
   "source": [
    "#average reading score of year 9's at each school\n",
    "year9_readscore_ave = year9_locate.groupby(['school_name'])['reading_score'].mean()\n",
    "year9_readscore_ave"
   ]
  },
  {
   "cell_type": "code",
   "execution_count": 992,
   "id": "3dcadbd1-9a31-405f-af2c-bef57fa3b3c2",
   "metadata": {},
   "outputs": [
    {
     "data": {
      "text/plain": [
       "school_name\n",
       "Bailey High School       70.848265\n",
       "Cabrera High School      71.328326\n",
       "Figueroa High School     67.677588\n",
       "Ford High School         68.988701\n",
       "Griffin High School      70.746305\n",
       "Hernandez High School    70.621842\n",
       "Holden High School       71.096491\n",
       "Huang High School        69.516297\n",
       "Johnson High School      69.295029\n",
       "Pena High School         72.324000\n",
       "Rodriguez High School    70.137500\n",
       "Shelton High School      69.879464\n",
       "Thomas High School       69.741093\n",
       "Wilson High School       68.412541\n",
       "Wright High School       71.386831\n",
       "Name: reading_score, dtype: float64"
      ]
     },
     "execution_count": 992,
     "metadata": {},
     "output_type": "execute_result"
    }
   ],
   "source": [
    "#average reading score of year 10's at each school\n",
    "year10_readscore_ave = year10_locate.groupby(['school_name'])['reading_score'].mean()\n",
    "year10_readscore_ave"
   ]
  },
  {
   "cell_type": "code",
   "execution_count": 993,
   "id": "55631155-df63-4ace-a81b-244f59b123c7",
   "metadata": {},
   "outputs": [],
   "source": [
    "#average reading score of year 11's at each school\n",
    "year11_readscore_ave = year11_locate.groupby(['school_name'])['reading_score'].mean()"
   ]
  },
  {
   "cell_type": "code",
   "execution_count": 994,
   "id": "5b9a8d80-43ec-4c88-8c03-ffaf889a57cd",
   "metadata": {},
   "outputs": [],
   "source": [
    "#average reading score of year 12's at each school\n",
    "year12_readscore_ave = year12_locate.groupby(['school_name'])['reading_score'].mean()"
   ]
  },
  {
   "cell_type": "code",
   "execution_count": 995,
   "id": "0d783bbd-3e0d-4e85-9d7e-86be3c92e223",
   "metadata": {},
   "outputs": [],
   "source": [
    "#set index column of reading scores per year group df to school names\n",
    "readingscorebyyear_df = pd.DataFrame(index=school_name_index.index)"
   ]
  },
  {
   "cell_type": "code",
   "execution_count": 996,
   "id": "bb1259ed-dad6-480e-8bb2-35508b385999",
   "metadata": {},
   "outputs": [],
   "source": [
    "#add year group columns to reading ave df\n",
    "readingscorebyyear_df['Year 9'] = year9_readscore_ave\n",
    "readingscorebyyear_df['Year 10'] = year10_readscore_ave\n",
    "readingscorebyyear_df['Year 11'] = year11_readscore_ave\n",
    "readingscorebyyear_df['Year 12'] = year12_readscore_ave"
   ]
  },
  {
   "cell_type": "code",
   "execution_count": 997,
   "id": "9b6ec0cc",
   "metadata": {},
   "outputs": [],
   "source": [
    "#format cells\n",
    "readingscorebyyear_df['Year 9'] = readingscorebyyear_df['Year 9'].map('{:.2f}'.format)\n",
    "readingscorebyyear_df['Year 10'] = readingscorebyyear_df['Year 10'].map('{:.2f}'.format)\n",
    "readingscorebyyear_df['Year 11'] = readingscorebyyear_df['Year 11'].map('{:.2f}'.format)\n",
    "readingscorebyyear_df['Year 12'] = readingscorebyyear_df['Year 12'].map('{:.2f}'.format)"
   ]
  },
  {
   "cell_type": "code",
   "execution_count": 998,
   "id": "cf888223",
   "metadata": {},
   "outputs": [],
   "source": [
    "#sort by alphabetical order\n",
    "readingscorebyyear_df = readingscorebyyear_df.sort_values(['School Name'])"
   ]
  },
  {
   "cell_type": "markdown",
   "id": "a5f6849c",
   "metadata": {},
   "source": [
    "# Reading Score by Year"
   ]
  },
  {
   "cell_type": "code",
   "execution_count": 999,
   "id": "3e72af98-f0e9-436b-a763-dd6b8957030e",
   "metadata": {},
   "outputs": [
    {
     "data": {
      "text/html": [
       "<div>\n",
       "<style scoped>\n",
       "    .dataframe tbody tr th:only-of-type {\n",
       "        vertical-align: middle;\n",
       "    }\n",
       "\n",
       "    .dataframe tbody tr th {\n",
       "        vertical-align: top;\n",
       "    }\n",
       "\n",
       "    .dataframe thead th {\n",
       "        text-align: right;\n",
       "    }\n",
       "</style>\n",
       "<table border=\"1\" class=\"dataframe\">\n",
       "  <thead>\n",
       "    <tr style=\"text-align: right;\">\n",
       "      <th></th>\n",
       "      <th>Year 9</th>\n",
       "      <th>Year 10</th>\n",
       "      <th>Year 11</th>\n",
       "      <th>Year 12</th>\n",
       "    </tr>\n",
       "    <tr>\n",
       "      <th>School Name</th>\n",
       "      <th></th>\n",
       "      <th></th>\n",
       "      <th></th>\n",
       "      <th></th>\n",
       "    </tr>\n",
       "  </thead>\n",
       "  <tbody>\n",
       "    <tr>\n",
       "      <th>Bailey High School</th>\n",
       "      <td>70.90</td>\n",
       "      <td>70.85</td>\n",
       "      <td>70.32</td>\n",
       "      <td>72.20</td>\n",
       "    </tr>\n",
       "    <tr>\n",
       "      <th>Cabrera High School</th>\n",
       "      <td>71.17</td>\n",
       "      <td>71.33</td>\n",
       "      <td>71.20</td>\n",
       "      <td>71.86</td>\n",
       "    </tr>\n",
       "    <tr>\n",
       "      <th>Figueroa High School</th>\n",
       "      <td>70.26</td>\n",
       "      <td>67.68</td>\n",
       "      <td>69.15</td>\n",
       "      <td>69.08</td>\n",
       "    </tr>\n",
       "    <tr>\n",
       "      <th>Ford High School</th>\n",
       "      <td>69.62</td>\n",
       "      <td>68.99</td>\n",
       "      <td>70.74</td>\n",
       "      <td>68.85</td>\n",
       "    </tr>\n",
       "    <tr>\n",
       "      <th>Griffin High School</th>\n",
       "      <td>72.03</td>\n",
       "      <td>70.75</td>\n",
       "      <td>72.39</td>\n",
       "      <td>69.43</td>\n",
       "    </tr>\n",
       "    <tr>\n",
       "      <th>Hernandez High School</th>\n",
       "      <td>68.48</td>\n",
       "      <td>70.62</td>\n",
       "      <td>68.42</td>\n",
       "      <td>69.24</td>\n",
       "    </tr>\n",
       "    <tr>\n",
       "      <th>Holden High School</th>\n",
       "      <td>71.60</td>\n",
       "      <td>71.10</td>\n",
       "      <td>73.31</td>\n",
       "      <td>70.48</td>\n",
       "    </tr>\n",
       "    <tr>\n",
       "      <th>Huang High School</th>\n",
       "      <td>68.67</td>\n",
       "      <td>69.52</td>\n",
       "      <td>68.74</td>\n",
       "      <td>68.67</td>\n",
       "    </tr>\n",
       "    <tr>\n",
       "      <th>Johnson High School</th>\n",
       "      <td>68.72</td>\n",
       "      <td>69.30</td>\n",
       "      <td>69.97</td>\n",
       "      <td>67.99</td>\n",
       "    </tr>\n",
       "    <tr>\n",
       "      <th>Pena High School</th>\n",
       "      <td>70.95</td>\n",
       "      <td>72.32</td>\n",
       "      <td>71.70</td>\n",
       "      <td>71.51</td>\n",
       "    </tr>\n",
       "    <tr>\n",
       "      <th>Rodriguez High School</th>\n",
       "      <td>70.90</td>\n",
       "      <td>70.14</td>\n",
       "      <td>71.42</td>\n",
       "      <td>71.41</td>\n",
       "    </tr>\n",
       "    <tr>\n",
       "      <th>Shelton High School</th>\n",
       "      <td>70.72</td>\n",
       "      <td>69.88</td>\n",
       "      <td>71.15</td>\n",
       "      <td>69.07</td>\n",
       "    </tr>\n",
       "    <tr>\n",
       "      <th>Thomas High School</th>\n",
       "      <td>69.67</td>\n",
       "      <td>69.74</td>\n",
       "      <td>70.75</td>\n",
       "      <td>68.73</td>\n",
       "    </tr>\n",
       "    <tr>\n",
       "      <th>Wilson High School</th>\n",
       "      <td>68.68</td>\n",
       "      <td>68.41</td>\n",
       "      <td>68.80</td>\n",
       "      <td>69.89</td>\n",
       "    </tr>\n",
       "    <tr>\n",
       "      <th>Wright High School</th>\n",
       "      <td>71.82</td>\n",
       "      <td>71.39</td>\n",
       "      <td>70.48</td>\n",
       "      <td>69.82</td>\n",
       "    </tr>\n",
       "  </tbody>\n",
       "</table>\n",
       "</div>"
      ],
      "text/plain": [
       "                      Year 9 Year 10 Year 11 Year 12\n",
       "School Name                                         \n",
       "Bailey High School     70.90   70.85   70.32   72.20\n",
       "Cabrera High School    71.17   71.33   71.20   71.86\n",
       "Figueroa High School   70.26   67.68   69.15   69.08\n",
       "Ford High School       69.62   68.99   70.74   68.85\n",
       "Griffin High School    72.03   70.75   72.39   69.43\n",
       "Hernandez High School  68.48   70.62   68.42   69.24\n",
       "Holden High School     71.60   71.10   73.31   70.48\n",
       "Huang High School      68.67   69.52   68.74   68.67\n",
       "Johnson High School    68.72   69.30   69.97   67.99\n",
       "Pena High School       70.95   72.32   71.70   71.51\n",
       "Rodriguez High School  70.90   70.14   71.42   71.41\n",
       "Shelton High School    70.72   69.88   71.15   69.07\n",
       "Thomas High School     69.67   69.74   70.75   68.73\n",
       "Wilson High School     68.68   68.41   68.80   69.89\n",
       "Wright High School     71.82   71.39   70.48   69.82"
      ]
     },
     "execution_count": 999,
     "metadata": {},
     "output_type": "execute_result"
    }
   ],
   "source": [
    "#print reading scores per year group df\n",
    "readingscorebyyear_df"
   ]
  },
  {
   "cell_type": "code",
   "execution_count": 1000,
   "id": "ff135e59",
   "metadata": {},
   "outputs": [],
   "source": [
    "#define bins and labels for spending ranges\n",
    "spending_bins=[0,585,630,645,680]\n",
    "labels = ['<$585', '$585-630','$630-645','$645-680']"
   ]
  },
  {
   "cell_type": "code",
   "execution_count": 1001,
   "id": "d184d24e",
   "metadata": {},
   "outputs": [],
   "source": [
    "#add spending ranges column to school summary df\n",
    "schoolsummary_df['Spending Ranges (Per Student)'] = pd.cut(schoolsummary_df['Per Student Budget'],spending_bins, labels=labels)"
   ]
  },
  {
   "cell_type": "code",
   "execution_count": 1002,
   "id": "9d6e88be",
   "metadata": {},
   "outputs": [
    {
     "data": {
      "text/html": [
       "<div>\n",
       "<style scoped>\n",
       "    .dataframe tbody tr th:only-of-type {\n",
       "        vertical-align: middle;\n",
       "    }\n",
       "\n",
       "    .dataframe tbody tr th {\n",
       "        vertical-align: top;\n",
       "    }\n",
       "\n",
       "    .dataframe thead th {\n",
       "        text-align: right;\n",
       "    }\n",
       "</style>\n",
       "<table border=\"1\" class=\"dataframe\">\n",
       "  <thead>\n",
       "    <tr style=\"text-align: right;\">\n",
       "      <th></th>\n",
       "      <th>School Type</th>\n",
       "      <th>Total Students</th>\n",
       "      <th>Total School Budget</th>\n",
       "      <th>Per Student Budget</th>\n",
       "      <th>Average Maths Score</th>\n",
       "      <th>Average Reading Score</th>\n",
       "      <th>% Passing Maths</th>\n",
       "      <th>% Passing Reading</th>\n",
       "      <th>% Passing Overall</th>\n",
       "      <th>Spending Ranges (Per Student)</th>\n",
       "    </tr>\n",
       "    <tr>\n",
       "      <th>School Name</th>\n",
       "      <th></th>\n",
       "      <th></th>\n",
       "      <th></th>\n",
       "      <th></th>\n",
       "      <th></th>\n",
       "      <th></th>\n",
       "      <th></th>\n",
       "      <th></th>\n",
       "      <th></th>\n",
       "      <th></th>\n",
       "    </tr>\n",
       "  </thead>\n",
       "  <tbody>\n",
       "    <tr>\n",
       "      <th>Bailey High School</th>\n",
       "      <td>Government</td>\n",
       "      <td>4976</td>\n",
       "      <td>3124928.0</td>\n",
       "      <td>628.0</td>\n",
       "      <td>72.352894</td>\n",
       "      <td>71.008842</td>\n",
       "      <td>91.639871</td>\n",
       "      <td>87.379421</td>\n",
       "      <td>80.084405</td>\n",
       "      <td>$585-630</td>\n",
       "    </tr>\n",
       "    <tr>\n",
       "      <th>Cabrera High School</th>\n",
       "      <td>Independent</td>\n",
       "      <td>1858</td>\n",
       "      <td>1081356.0</td>\n",
       "      <td>582.0</td>\n",
       "      <td>71.657158</td>\n",
       "      <td>71.359526</td>\n",
       "      <td>90.850377</td>\n",
       "      <td>89.074273</td>\n",
       "      <td>80.785791</td>\n",
       "      <td>&lt;$585</td>\n",
       "    </tr>\n",
       "    <tr>\n",
       "      <th>Figueroa High School</th>\n",
       "      <td>Government</td>\n",
       "      <td>2949</td>\n",
       "      <td>1884411.0</td>\n",
       "      <td>639.0</td>\n",
       "      <td>68.698542</td>\n",
       "      <td>69.077993</td>\n",
       "      <td>81.654798</td>\n",
       "      <td>82.807731</td>\n",
       "      <td>67.650051</td>\n",
       "      <td>$630-645</td>\n",
       "    </tr>\n",
       "    <tr>\n",
       "      <th>Ford High School</th>\n",
       "      <td>Government</td>\n",
       "      <td>2739</td>\n",
       "      <td>1763916.0</td>\n",
       "      <td>644.0</td>\n",
       "      <td>69.091274</td>\n",
       "      <td>69.572472</td>\n",
       "      <td>82.438846</td>\n",
       "      <td>82.219788</td>\n",
       "      <td>67.469880</td>\n",
       "      <td>$630-645</td>\n",
       "    </tr>\n",
       "    <tr>\n",
       "      <th>Griffin High School</th>\n",
       "      <td>Independent</td>\n",
       "      <td>1468</td>\n",
       "      <td>917500.0</td>\n",
       "      <td>625.0</td>\n",
       "      <td>71.788147</td>\n",
       "      <td>71.245232</td>\n",
       "      <td>91.212534</td>\n",
       "      <td>88.487738</td>\n",
       "      <td>81.335150</td>\n",
       "      <td>$585-630</td>\n",
       "    </tr>\n",
       "  </tbody>\n",
       "</table>\n",
       "</div>"
      ],
      "text/plain": [
       "                      School Type  Total Students  Total School Budget  \\\n",
       "School Name                                                              \n",
       "Bailey High School     Government            4976            3124928.0   \n",
       "Cabrera High School   Independent            1858            1081356.0   \n",
       "Figueroa High School   Government            2949            1884411.0   \n",
       "Ford High School       Government            2739            1763916.0   \n",
       "Griffin High School   Independent            1468             917500.0   \n",
       "\n",
       "                      Per Student Budget  Average Maths Score  \\\n",
       "School Name                                                     \n",
       "Bailey High School                 628.0            72.352894   \n",
       "Cabrera High School                582.0            71.657158   \n",
       "Figueroa High School               639.0            68.698542   \n",
       "Ford High School                   644.0            69.091274   \n",
       "Griffin High School                625.0            71.788147   \n",
       "\n",
       "                      Average Reading Score  % Passing Maths  \\\n",
       "School Name                                                    \n",
       "Bailey High School                71.008842        91.639871   \n",
       "Cabrera High School               71.359526        90.850377   \n",
       "Figueroa High School              69.077993        81.654798   \n",
       "Ford High School                  69.572472        82.438846   \n",
       "Griffin High School               71.245232        91.212534   \n",
       "\n",
       "                      % Passing Reading  % Passing Overall  \\\n",
       "School Name                                                  \n",
       "Bailey High School            87.379421          80.084405   \n",
       "Cabrera High School           89.074273          80.785791   \n",
       "Figueroa High School          82.807731          67.650051   \n",
       "Ford High School              82.219788          67.469880   \n",
       "Griffin High School           88.487738          81.335150   \n",
       "\n",
       "                     Spending Ranges (Per Student)  \n",
       "School Name                                         \n",
       "Bailey High School                        $585-630  \n",
       "Cabrera High School                          <$585  \n",
       "Figueroa High School                      $630-645  \n",
       "Ford High School                          $630-645  \n",
       "Griffin High School                       $585-630  "
      ]
     },
     "execution_count": 1002,
     "metadata": {},
     "output_type": "execute_result"
    }
   ],
   "source": [
    "#check that bin was added successfully\n",
    "schoolsummary_df.head()"
   ]
  },
  {
   "cell_type": "code",
   "execution_count": 1003,
   "id": "8506e0de",
   "metadata": {},
   "outputs": [
    {
     "data": {
      "text/plain": [
       "Spending Ranges (Per Student)\n",
       "<$585       71.364587\n",
       "$585-630    72.065868\n",
       "$630-645    69.854807\n",
       "$645-680    68.884391\n",
       "Name: Average Maths Score, dtype: float64"
      ]
     },
     "execution_count": 1003,
     "metadata": {},
     "output_type": "execute_result"
    }
   ],
   "source": [
    "#average maths scores per spending range\n",
    "spending_maths_scores = schoolsummary_df.groupby([\"Spending Ranges (Per Student)\"])[\"Average Maths Score\"].mean()\n",
    "spending_maths_scores"
   ]
  },
  {
   "cell_type": "code",
   "execution_count": 1004,
   "id": "b9d9beb6",
   "metadata": {},
   "outputs": [
    {
     "data": {
      "text/plain": [
       "Spending Ranges (Per Student)\n",
       "<$585       70.716577\n",
       "$585-630    71.031297\n",
       "$630-645    69.838814\n",
       "$645-680    69.045403\n",
       "Name: Average Reading Score, dtype: float64"
      ]
     },
     "execution_count": 1004,
     "metadata": {},
     "output_type": "execute_result"
    }
   ],
   "source": [
    "#average reading score per spending range\n",
    "spending_reading_scores = schoolsummary_df.groupby([\"Spending Ranges (Per Student)\"])[\"Average Reading Score\"].mean()\n",
    "spending_reading_scores"
   ]
  },
  {
   "cell_type": "code",
   "execution_count": 1005,
   "id": "c6d765a7",
   "metadata": {},
   "outputs": [
    {
     "data": {
      "text/plain": [
       "Spending Ranges (Per Student)\n",
       "<$585       88.835926\n",
       "$585-630    91.518824\n",
       "$630-645    84.686139\n",
       "$645-680    81.568470\n",
       "Name: % Passing Maths, dtype: float64"
      ]
     },
     "execution_count": 1005,
     "metadata": {},
     "output_type": "execute_result"
    }
   ],
   "source": [
    "#average passing maths score per spending range\n",
    "spending_passing_maths = schoolsummary_df.groupby([\"Spending Ranges (Per Student)\"])[\"% Passing Maths\"].mean()\n",
    "spending_passing_maths"
   ]
  },
  {
   "cell_type": "code",
   "execution_count": 1006,
   "id": "fea57b59",
   "metadata": {},
   "outputs": [],
   "source": [
    "#average passing reading score per spending range\n",
    "spending_passing_reading = schoolsummary_df.groupby([\"Spending Ranges (Per Student)\"])[\"% Passing Reading\"].mean()"
   ]
  },
  {
   "cell_type": "code",
   "execution_count": 1007,
   "id": "1d3db44d",
   "metadata": {},
   "outputs": [],
   "source": [
    "#average overall passing score per spending range\n",
    "overall_passing_spending = schoolsummary_df.groupby([\"Spending Ranges (Per Student)\"])[\"% Passing Overall\"].mean()"
   ]
  },
  {
   "cell_type": "code",
   "execution_count": 1008,
   "id": "46a0c408",
   "metadata": {},
   "outputs": [],
   "source": [
    "#define spending ranges list\n",
    "spending_ranges = schoolsummary_df['Spending Ranges (Per Student)'],"
   ]
  },
  {
   "cell_type": "code",
   "execution_count": 1009,
   "id": "fa99bc33",
   "metadata": {},
   "outputs": [],
   "source": [
    "#set index as spending ranges\n",
    "spending_summary_df = pd.DataFrame(index=labels)"
   ]
  },
  {
   "cell_type": "code",
   "execution_count": 1010,
   "id": "f5df7040",
   "metadata": {},
   "outputs": [
    {
     "data": {
      "text/html": [
       "<div>\n",
       "<style scoped>\n",
       "    .dataframe tbody tr th:only-of-type {\n",
       "        vertical-align: middle;\n",
       "    }\n",
       "\n",
       "    .dataframe tbody tr th {\n",
       "        vertical-align: top;\n",
       "    }\n",
       "\n",
       "    .dataframe thead th {\n",
       "        text-align: right;\n",
       "    }\n",
       "</style>\n",
       "<table border=\"1\" class=\"dataframe\">\n",
       "  <thead>\n",
       "    <tr style=\"text-align: right;\">\n",
       "      <th></th>\n",
       "    </tr>\n",
       "    <tr>\n",
       "      <th>Spending Ranges (Per Student)</th>\n",
       "    </tr>\n",
       "  </thead>\n",
       "  <tbody>\n",
       "    <tr>\n",
       "      <th>&lt;$585</th>\n",
       "    </tr>\n",
       "    <tr>\n",
       "      <th>$585-630</th>\n",
       "    </tr>\n",
       "    <tr>\n",
       "      <th>$630-645</th>\n",
       "    </tr>\n",
       "    <tr>\n",
       "      <th>$645-680</th>\n",
       "    </tr>\n",
       "  </tbody>\n",
       "</table>\n",
       "</div>"
      ],
      "text/plain": [
       "Empty DataFrame\n",
       "Columns: []\n",
       "Index: [<$585, $585-630, $630-645, $645-680]"
      ]
     },
     "execution_count": 1010,
     "metadata": {},
     "output_type": "execute_result"
    }
   ],
   "source": [
    "#set title of the index column and test result\n",
    "spending_summary_df.index.names = ['Spending Ranges (Per Student)']\n",
    "spending_summary_df"
   ]
  },
  {
   "cell_type": "code",
   "execution_count": 1011,
   "id": "75225fb6",
   "metadata": {},
   "outputs": [],
   "source": [
    "#add columns to spending ranges df\n",
    "spending_summary_df = pd.DataFrame({\n",
    "    'Average Maths Score':spending_maths_scores,\n",
    "    'Average Reading Score':spending_reading_scores,\n",
    "    '% Passing Maths':spending_passing_maths,\n",
    "    '% Passing Reading':spending_passing_reading,\n",
    "    '% Passing Overall':overall_passing_spending\n",
    "})"
   ]
  },
  {
   "cell_type": "code",
   "execution_count": 1012,
   "id": "7c1e6ab4",
   "metadata": {},
   "outputs": [],
   "source": [
    "#format cells\n",
    "spending_summary_df['Average Maths Score'] = spending_summary_df['Average Maths Score'].map('{:0.2f}'.format)\n",
    "spending_summary_df['Average Reading Score'] = spending_summary_df['Average Reading Score'].map('{:0.2f}'.format)\n",
    "spending_summary_df['% Passing Maths'] = spending_summary_df['% Passing Maths'].map('{:0.2f}%'.format)\n",
    "spending_summary_df['% Passing Reading'] = spending_summary_df['% Passing Reading'].map('{:0.2f}%'.format)\n",
    "spending_summary_df['% Passing Overall'] = spending_summary_df['% Passing Overall'].map('{:0.2f}%'.format)"
   ]
  },
  {
   "cell_type": "markdown",
   "id": "229a7a55",
   "metadata": {},
   "source": [
    "# Scores by School Spending"
   ]
  },
  {
   "cell_type": "code",
   "execution_count": 1013,
   "id": "327f0ff3",
   "metadata": {},
   "outputs": [
    {
     "data": {
      "text/html": [
       "<div>\n",
       "<style scoped>\n",
       "    .dataframe tbody tr th:only-of-type {\n",
       "        vertical-align: middle;\n",
       "    }\n",
       "\n",
       "    .dataframe tbody tr th {\n",
       "        vertical-align: top;\n",
       "    }\n",
       "\n",
       "    .dataframe thead th {\n",
       "        text-align: right;\n",
       "    }\n",
       "</style>\n",
       "<table border=\"1\" class=\"dataframe\">\n",
       "  <thead>\n",
       "    <tr style=\"text-align: right;\">\n",
       "      <th></th>\n",
       "      <th>Average Maths Score</th>\n",
       "      <th>Average Reading Score</th>\n",
       "      <th>% Passing Maths</th>\n",
       "      <th>% Passing Reading</th>\n",
       "      <th>% Passing Overall</th>\n",
       "    </tr>\n",
       "    <tr>\n",
       "      <th>Spending Ranges (Per Student)</th>\n",
       "      <th></th>\n",
       "      <th></th>\n",
       "      <th></th>\n",
       "      <th></th>\n",
       "      <th></th>\n",
       "    </tr>\n",
       "  </thead>\n",
       "  <tbody>\n",
       "    <tr>\n",
       "      <th>&lt;$585</th>\n",
       "      <td>71.36</td>\n",
       "      <td>70.72</td>\n",
       "      <td>88.84%</td>\n",
       "      <td>86.39%</td>\n",
       "      <td>76.72%</td>\n",
       "    </tr>\n",
       "    <tr>\n",
       "      <th>$585-630</th>\n",
       "      <td>72.07</td>\n",
       "      <td>71.03</td>\n",
       "      <td>91.52%</td>\n",
       "      <td>87.29%</td>\n",
       "      <td>79.88%</td>\n",
       "    </tr>\n",
       "    <tr>\n",
       "      <th>$630-645</th>\n",
       "      <td>69.85</td>\n",
       "      <td>69.84</td>\n",
       "      <td>84.69%</td>\n",
       "      <td>83.76%</td>\n",
       "      <td>71.00%</td>\n",
       "    </tr>\n",
       "    <tr>\n",
       "      <th>$645-680</th>\n",
       "      <td>68.88</td>\n",
       "      <td>69.05</td>\n",
       "      <td>81.57%</td>\n",
       "      <td>81.77%</td>\n",
       "      <td>66.76%</td>\n",
       "    </tr>\n",
       "  </tbody>\n",
       "</table>\n",
       "</div>"
      ],
      "text/plain": [
       "                              Average Maths Score Average Reading Score  \\\n",
       "Spending Ranges (Per Student)                                             \n",
       "<$585                                       71.36                 70.72   \n",
       "$585-630                                    72.07                 71.03   \n",
       "$630-645                                    69.85                 69.84   \n",
       "$645-680                                    68.88                 69.05   \n",
       "\n",
       "                              % Passing Maths % Passing Reading  \\\n",
       "Spending Ranges (Per Student)                                     \n",
       "<$585                                  88.84%            86.39%   \n",
       "$585-630                               91.52%            87.29%   \n",
       "$630-645                               84.69%            83.76%   \n",
       "$645-680                               81.57%            81.77%   \n",
       "\n",
       "                              % Passing Overall  \n",
       "Spending Ranges (Per Student)                    \n",
       "<$585                                    76.72%  \n",
       "$585-630                                 79.88%  \n",
       "$630-645                                 71.00%  \n",
       "$645-680                                 66.76%  "
      ]
     },
     "execution_count": 1013,
     "metadata": {},
     "output_type": "execute_result"
    }
   ],
   "source": [
    "#display spending ranges df\n",
    "spending_summary_df"
   ]
  },
  {
   "cell_type": "code",
   "execution_count": 1014,
   "id": "fe25584d",
   "metadata": {},
   "outputs": [],
   "source": [
    "#define bins and labels for school size according to no of students\n",
    "size_bins = [0, 1000, 2000, 5000]\n",
    "labels_size = ['Small (<1000)', 'Medium (1000-2000)', 'Large (2000-5000)']"
   ]
  },
  {
   "cell_type": "code",
   "execution_count": 1015,
   "id": "5cc6c5fd",
   "metadata": {},
   "outputs": [
    {
     "data": {
      "text/html": [
       "<div>\n",
       "<style scoped>\n",
       "    .dataframe tbody tr th:only-of-type {\n",
       "        vertical-align: middle;\n",
       "    }\n",
       "\n",
       "    .dataframe tbody tr th {\n",
       "        vertical-align: top;\n",
       "    }\n",
       "\n",
       "    .dataframe thead th {\n",
       "        text-align: right;\n",
       "    }\n",
       "</style>\n",
       "<table border=\"1\" class=\"dataframe\">\n",
       "  <thead>\n",
       "    <tr style=\"text-align: right;\">\n",
       "      <th></th>\n",
       "      <th>School Type</th>\n",
       "      <th>Total Students</th>\n",
       "      <th>Total School Budget</th>\n",
       "      <th>Per Student Budget</th>\n",
       "      <th>Average Maths Score</th>\n",
       "      <th>Average Reading Score</th>\n",
       "      <th>% Passing Maths</th>\n",
       "      <th>% Passing Reading</th>\n",
       "      <th>% Passing Overall</th>\n",
       "      <th>Spending Ranges (Per Student)</th>\n",
       "      <th>School Size</th>\n",
       "    </tr>\n",
       "    <tr>\n",
       "      <th>School Name</th>\n",
       "      <th></th>\n",
       "      <th></th>\n",
       "      <th></th>\n",
       "      <th></th>\n",
       "      <th></th>\n",
       "      <th></th>\n",
       "      <th></th>\n",
       "      <th></th>\n",
       "      <th></th>\n",
       "      <th></th>\n",
       "      <th></th>\n",
       "    </tr>\n",
       "  </thead>\n",
       "  <tbody>\n",
       "    <tr>\n",
       "      <th>Bailey High School</th>\n",
       "      <td>Government</td>\n",
       "      <td>4976</td>\n",
       "      <td>3124928.0</td>\n",
       "      <td>628.0</td>\n",
       "      <td>72.352894</td>\n",
       "      <td>71.008842</td>\n",
       "      <td>91.639871</td>\n",
       "      <td>87.379421</td>\n",
       "      <td>80.084405</td>\n",
       "      <td>$585-630</td>\n",
       "      <td>Large (2000-5000)</td>\n",
       "    </tr>\n",
       "    <tr>\n",
       "      <th>Cabrera High School</th>\n",
       "      <td>Independent</td>\n",
       "      <td>1858</td>\n",
       "      <td>1081356.0</td>\n",
       "      <td>582.0</td>\n",
       "      <td>71.657158</td>\n",
       "      <td>71.359526</td>\n",
       "      <td>90.850377</td>\n",
       "      <td>89.074273</td>\n",
       "      <td>80.785791</td>\n",
       "      <td>&lt;$585</td>\n",
       "      <td>Medium (1000-2000)</td>\n",
       "    </tr>\n",
       "    <tr>\n",
       "      <th>Figueroa High School</th>\n",
       "      <td>Government</td>\n",
       "      <td>2949</td>\n",
       "      <td>1884411.0</td>\n",
       "      <td>639.0</td>\n",
       "      <td>68.698542</td>\n",
       "      <td>69.077993</td>\n",
       "      <td>81.654798</td>\n",
       "      <td>82.807731</td>\n",
       "      <td>67.650051</td>\n",
       "      <td>$630-645</td>\n",
       "      <td>Large (2000-5000)</td>\n",
       "    </tr>\n",
       "    <tr>\n",
       "      <th>Ford High School</th>\n",
       "      <td>Government</td>\n",
       "      <td>2739</td>\n",
       "      <td>1763916.0</td>\n",
       "      <td>644.0</td>\n",
       "      <td>69.091274</td>\n",
       "      <td>69.572472</td>\n",
       "      <td>82.438846</td>\n",
       "      <td>82.219788</td>\n",
       "      <td>67.469880</td>\n",
       "      <td>$630-645</td>\n",
       "      <td>Large (2000-5000)</td>\n",
       "    </tr>\n",
       "    <tr>\n",
       "      <th>Griffin High School</th>\n",
       "      <td>Independent</td>\n",
       "      <td>1468</td>\n",
       "      <td>917500.0</td>\n",
       "      <td>625.0</td>\n",
       "      <td>71.788147</td>\n",
       "      <td>71.245232</td>\n",
       "      <td>91.212534</td>\n",
       "      <td>88.487738</td>\n",
       "      <td>81.335150</td>\n",
       "      <td>$585-630</td>\n",
       "      <td>Medium (1000-2000)</td>\n",
       "    </tr>\n",
       "  </tbody>\n",
       "</table>\n",
       "</div>"
      ],
      "text/plain": [
       "                      School Type  Total Students  Total School Budget  \\\n",
       "School Name                                                              \n",
       "Bailey High School     Government            4976            3124928.0   \n",
       "Cabrera High School   Independent            1858            1081356.0   \n",
       "Figueroa High School   Government            2949            1884411.0   \n",
       "Ford High School       Government            2739            1763916.0   \n",
       "Griffin High School   Independent            1468             917500.0   \n",
       "\n",
       "                      Per Student Budget  Average Maths Score  \\\n",
       "School Name                                                     \n",
       "Bailey High School                 628.0            72.352894   \n",
       "Cabrera High School                582.0            71.657158   \n",
       "Figueroa High School               639.0            68.698542   \n",
       "Ford High School                   644.0            69.091274   \n",
       "Griffin High School                625.0            71.788147   \n",
       "\n",
       "                      Average Reading Score  % Passing Maths  \\\n",
       "School Name                                                    \n",
       "Bailey High School                71.008842        91.639871   \n",
       "Cabrera High School               71.359526        90.850377   \n",
       "Figueroa High School              69.077993        81.654798   \n",
       "Ford High School                  69.572472        82.438846   \n",
       "Griffin High School               71.245232        91.212534   \n",
       "\n",
       "                      % Passing Reading  % Passing Overall  \\\n",
       "School Name                                                  \n",
       "Bailey High School            87.379421          80.084405   \n",
       "Cabrera High School           89.074273          80.785791   \n",
       "Figueroa High School          82.807731          67.650051   \n",
       "Ford High School              82.219788          67.469880   \n",
       "Griffin High School           88.487738          81.335150   \n",
       "\n",
       "                     Spending Ranges (Per Student)         School Size  \n",
       "School Name                                                             \n",
       "Bailey High School                        $585-630   Large (2000-5000)  \n",
       "Cabrera High School                          <$585  Medium (1000-2000)  \n",
       "Figueroa High School                      $630-645   Large (2000-5000)  \n",
       "Ford High School                          $630-645   Large (2000-5000)  \n",
       "Griffin High School                       $585-630  Medium (1000-2000)  "
      ]
     },
     "execution_count": 1015,
     "metadata": {},
     "output_type": "execute_result"
    }
   ],
   "source": [
    "#create bin and add in column in school summary df\n",
    "schoolsummary_df['School Size'] = pd.cut(schoolsummary_df['Total Students'],size_bins, labels=labels_size)\n",
    "schoolsummary_df.head()"
   ]
  },
  {
   "cell_type": "code",
   "execution_count": 1016,
   "id": "f773a16f",
   "metadata": {},
   "outputs": [
    {
     "data": {
      "text/plain": [
       "School Size\n",
       "Small (<1000)         72.335748\n",
       "Medium (1000-2000)    71.421650\n",
       "Large (2000-5000)     69.751809\n",
       "Name: Average Maths Score, dtype: float64"
      ]
     },
     "execution_count": 1016,
     "metadata": {},
     "output_type": "execute_result"
    }
   ],
   "source": [
    "#average math score per school size\n",
    "size_maths_scores = schoolsummary_df.groupby([\"School Size\"])[\"Average Maths Score\"].mean()\n",
    "size_maths_scores"
   ]
  },
  {
   "cell_type": "code",
   "execution_count": 1017,
   "id": "5aa983a3",
   "metadata": {},
   "outputs": [
    {
     "data": {
      "text/plain": [
       "School Size\n",
       "Small (<1000)         71.636864\n",
       "Medium (1000-2000)    70.720164\n",
       "Large (2000-5000)     69.576052\n",
       "Name: Average Reading Score, dtype: float64"
      ]
     },
     "execution_count": 1017,
     "metadata": {},
     "output_type": "execute_result"
    }
   ],
   "source": [
    "#average reading score per school size\n",
    "size_reading_scores = schoolsummary_df.groupby([\"School Size\"])[\"Average Reading Score\"].mean()\n",
    "size_reading_scores"
   ]
  },
  {
   "cell_type": "code",
   "execution_count": 1018,
   "id": "7b81c4b4",
   "metadata": {},
   "outputs": [
    {
     "data": {
      "text/plain": [
       "School Size\n",
       "Small (<1000)         90.806867\n",
       "Medium (1000-2000)    89.846560\n",
       "Large (2000-5000)     84.252804\n",
       "Name: % Passing Maths, dtype: float64"
      ]
     },
     "execution_count": 1018,
     "metadata": {},
     "output_type": "execute_result"
    }
   ],
   "source": [
    "#average score of students passing maths per school size\n",
    "size_passing_maths = schoolsummary_df.groupby([\"School Size\"])[\"% Passing Maths\"].mean()\n",
    "size_passing_maths"
   ]
  },
  {
   "cell_type": "code",
   "execution_count": 1019,
   "id": "25c4a314",
   "metadata": {},
   "outputs": [],
   "source": [
    "#average passing reading per school size\n",
    "size_passing_reading = schoolsummary_df.groupby([\"School Size\"])[\"% Passing Reading\"].mean()"
   ]
  },
  {
   "cell_type": "code",
   "execution_count": 1020,
   "id": "d92bd5c4",
   "metadata": {},
   "outputs": [],
   "source": [
    "#average overall passing per school size\n",
    "overall_passing_size = schoolsummary_df.groupby([\"School Size\"])[\"% Passing Overall\"].mean()"
   ]
  },
  {
   "cell_type": "code",
   "execution_count": 1021,
   "id": "1185ce40",
   "metadata": {},
   "outputs": [
    {
     "data": {
      "text/html": [
       "<div>\n",
       "<style scoped>\n",
       "    .dataframe tbody tr th:only-of-type {\n",
       "        vertical-align: middle;\n",
       "    }\n",
       "\n",
       "    .dataframe tbody tr th {\n",
       "        vertical-align: top;\n",
       "    }\n",
       "\n",
       "    .dataframe thead th {\n",
       "        text-align: right;\n",
       "    }\n",
       "</style>\n",
       "<table border=\"1\" class=\"dataframe\">\n",
       "  <thead>\n",
       "    <tr style=\"text-align: right;\">\n",
       "      <th></th>\n",
       "    </tr>\n",
       "  </thead>\n",
       "  <tbody>\n",
       "    <tr>\n",
       "      <th>Small (&lt;1000)</th>\n",
       "    </tr>\n",
       "    <tr>\n",
       "      <th>Medium (1000-2000)</th>\n",
       "    </tr>\n",
       "    <tr>\n",
       "      <th>Large (2000-5000)</th>\n",
       "    </tr>\n",
       "  </tbody>\n",
       "</table>\n",
       "</div>"
      ],
      "text/plain": [
       "Empty DataFrame\n",
       "Columns: []\n",
       "Index: [Small (<1000), Medium (1000-2000), Large (2000-5000)]"
      ]
     },
     "execution_count": 1021,
     "metadata": {},
     "output_type": "execute_result"
    }
   ],
   "source": [
    "#set index column sop school size df\n",
    "per_school_summary = pd.DataFrame(index=labels_size)\n",
    "per_school_summary"
   ]
  },
  {
   "cell_type": "code",
   "execution_count": 1022,
   "id": "d31aa834",
   "metadata": {},
   "outputs": [
    {
     "data": {
      "text/html": [
       "<div>\n",
       "<style scoped>\n",
       "    .dataframe tbody tr th:only-of-type {\n",
       "        vertical-align: middle;\n",
       "    }\n",
       "\n",
       "    .dataframe tbody tr th {\n",
       "        vertical-align: top;\n",
       "    }\n",
       "\n",
       "    .dataframe thead th {\n",
       "        text-align: right;\n",
       "    }\n",
       "</style>\n",
       "<table border=\"1\" class=\"dataframe\">\n",
       "  <thead>\n",
       "    <tr style=\"text-align: right;\">\n",
       "      <th></th>\n",
       "    </tr>\n",
       "    <tr>\n",
       "      <th>School Size</th>\n",
       "    </tr>\n",
       "  </thead>\n",
       "  <tbody>\n",
       "    <tr>\n",
       "      <th>Small (&lt;1000)</th>\n",
       "    </tr>\n",
       "    <tr>\n",
       "      <th>Medium (1000-2000)</th>\n",
       "    </tr>\n",
       "    <tr>\n",
       "      <th>Large (2000-5000)</th>\n",
       "    </tr>\n",
       "  </tbody>\n",
       "</table>\n",
       "</div>"
      ],
      "text/plain": [
       "Empty DataFrame\n",
       "Columns: []\n",
       "Index: [Small (<1000), Medium (1000-2000), Large (2000-5000)]"
      ]
     },
     "execution_count": 1022,
     "metadata": {},
     "output_type": "execute_result"
    }
   ],
   "source": [
    "#rename index column\n",
    "per_school_summary.index.names = ['School Size']\n",
    "per_school_summary"
   ]
  },
  {
   "cell_type": "code",
   "execution_count": 1023,
   "id": "0a82ecba",
   "metadata": {},
   "outputs": [],
   "source": [
    "#add columns to school size df\n",
    "per_school_summary = pd.DataFrame({\n",
    "    'Average Maths Score':size_maths_scores,\n",
    "    'Average Reading Score':size_reading_scores,\n",
    "    '% Passing Maths':size_passing_maths,\n",
    "    '% Passing Reading':size_passing_reading,\n",
    "    '% Passing Overall':overall_passing_size\n",
    "})"
   ]
  },
  {
   "cell_type": "code",
   "execution_count": 1024,
   "id": "4c9445f4",
   "metadata": {},
   "outputs": [],
   "source": [
    "#format cells\n",
    "per_school_summary['Average Maths Score'] = per_school_summary['Average Maths Score'].map('{:0.2f}'.format)\n",
    "per_school_summary['Average Reading Score'] = per_school_summary['Average Reading Score'].map('{:0.2f}'.format)\n",
    "per_school_summary['% Passing Maths'] = per_school_summary['% Passing Maths'].map('{:0.2f}%'.format)\n",
    "per_school_summary['% Passing Reading'] = per_school_summary['% Passing Reading'].map('{:0.2f}%'.format)\n",
    "per_school_summary['% Passing Overall'] = per_school_summary['% Passing Overall'].map('{:0.2f}%'.format)"
   ]
  },
  {
   "cell_type": "markdown",
   "id": "5b510d10",
   "metadata": {},
   "source": [
    "# Scores by School Size"
   ]
  },
  {
   "cell_type": "code",
   "execution_count": 1025,
   "id": "ab2e8f2e",
   "metadata": {},
   "outputs": [
    {
     "data": {
      "text/html": [
       "<div>\n",
       "<style scoped>\n",
       "    .dataframe tbody tr th:only-of-type {\n",
       "        vertical-align: middle;\n",
       "    }\n",
       "\n",
       "    .dataframe tbody tr th {\n",
       "        vertical-align: top;\n",
       "    }\n",
       "\n",
       "    .dataframe thead th {\n",
       "        text-align: right;\n",
       "    }\n",
       "</style>\n",
       "<table border=\"1\" class=\"dataframe\">\n",
       "  <thead>\n",
       "    <tr style=\"text-align: right;\">\n",
       "      <th></th>\n",
       "      <th>Average Maths Score</th>\n",
       "      <th>Average Reading Score</th>\n",
       "      <th>% Passing Maths</th>\n",
       "      <th>% Passing Reading</th>\n",
       "      <th>% Passing Overall</th>\n",
       "    </tr>\n",
       "    <tr>\n",
       "      <th>School Size</th>\n",
       "      <th></th>\n",
       "      <th></th>\n",
       "      <th></th>\n",
       "      <th></th>\n",
       "      <th></th>\n",
       "    </tr>\n",
       "  </thead>\n",
       "  <tbody>\n",
       "    <tr>\n",
       "      <th>Small (&lt;1000)</th>\n",
       "      <td>72.34</td>\n",
       "      <td>71.64</td>\n",
       "      <td>90.81%</td>\n",
       "      <td>87.56%</td>\n",
       "      <td>79.07%</td>\n",
       "    </tr>\n",
       "    <tr>\n",
       "      <th>Medium (1000-2000)</th>\n",
       "      <td>71.42</td>\n",
       "      <td>70.72</td>\n",
       "      <td>89.85%</td>\n",
       "      <td>86.71%</td>\n",
       "      <td>78.04%</td>\n",
       "    </tr>\n",
       "    <tr>\n",
       "      <th>Large (2000-5000)</th>\n",
       "      <td>69.75</td>\n",
       "      <td>69.58</td>\n",
       "      <td>84.25%</td>\n",
       "      <td>83.30%</td>\n",
       "      <td>70.29%</td>\n",
       "    </tr>\n",
       "  </tbody>\n",
       "</table>\n",
       "</div>"
      ],
      "text/plain": [
       "                   Average Maths Score Average Reading Score % Passing Maths  \\\n",
       "School Size                                                                    \n",
       "Small (<1000)                    72.34                 71.64          90.81%   \n",
       "Medium (1000-2000)               71.42                 70.72          89.85%   \n",
       "Large (2000-5000)                69.75                 69.58          84.25%   \n",
       "\n",
       "                   % Passing Reading % Passing Overall  \n",
       "School Size                                             \n",
       "Small (<1000)                 87.56%            79.07%  \n",
       "Medium (1000-2000)            86.71%            78.04%  \n",
       "Large (2000-5000)             83.30%            70.29%  "
      ]
     },
     "execution_count": 1025,
     "metadata": {},
     "output_type": "execute_result"
    }
   ],
   "source": [
    "#display df\n",
    "per_school_summary"
   ]
  },
  {
   "cell_type": "code",
   "execution_count": 1026,
   "id": "9f6c7e87",
   "metadata": {},
   "outputs": [
    {
     "data": {
      "text/html": [
       "<div>\n",
       "<style scoped>\n",
       "    .dataframe tbody tr th:only-of-type {\n",
       "        vertical-align: middle;\n",
       "    }\n",
       "\n",
       "    .dataframe tbody tr th {\n",
       "        vertical-align: top;\n",
       "    }\n",
       "\n",
       "    .dataframe thead th {\n",
       "        text-align: right;\n",
       "    }\n",
       "</style>\n",
       "<table border=\"1\" class=\"dataframe\">\n",
       "  <thead>\n",
       "    <tr style=\"text-align: right;\">\n",
       "      <th></th>\n",
       "    </tr>\n",
       "    <tr>\n",
       "      <th>School Type</th>\n",
       "    </tr>\n",
       "  </thead>\n",
       "  <tbody>\n",
       "    <tr>\n",
       "      <th>Government</th>\n",
       "    </tr>\n",
       "    <tr>\n",
       "      <th>Independent</th>\n",
       "    </tr>\n",
       "  </tbody>\n",
       "</table>\n",
       "</div>"
      ],
      "text/plain": [
       "Empty DataFrame\n",
       "Columns: []\n",
       "Index: [Government, Independent]"
      ]
     },
     "execution_count": 1026,
     "metadata": {},
     "output_type": "execute_result"
    }
   ],
   "source": [
    "#define and insert index column for school type df\n",
    "school_types_index = ['Government', 'Independent']\n",
    "type_summary = pd.DataFrame(index=school_types_index)\n",
    "type_summary.index.names = ['School Type']\n",
    "type_summary"
   ]
  },
  {
   "cell_type": "code",
   "execution_count": 1027,
   "id": "2fb5c777",
   "metadata": {},
   "outputs": [
    {
     "data": {
      "text/plain": [
       "School Type\n",
       "Government     69.834806\n",
       "Independent    71.368822\n",
       "Name: Average Maths Score, dtype: float64"
      ]
     },
     "execution_count": 1027,
     "metadata": {},
     "output_type": "execute_result"
    }
   ],
   "source": [
    "#average maths score per type\n",
    "type_maths_scores = schoolsummary_df.groupby([\"School Type\"])[\"Average Maths Score\"].mean()\n",
    "type_maths_scores"
   ]
  },
  {
   "cell_type": "code",
   "execution_count": 1028,
   "id": "12a8c12d",
   "metadata": {},
   "outputs": [
    {
     "data": {
      "text/plain": [
       "School Type\n",
       "Government     69.675929\n",
       "Independent    70.718933\n",
       "Name: Average Reading Score, dtype: float64"
      ]
     },
     "execution_count": 1028,
     "metadata": {},
     "output_type": "execute_result"
    }
   ],
   "source": [
    "#average reading score per type\n",
    "type_reading_scores = schoolsummary_df.groupby([\"School Type\"])[\"Average Reading Score\"].mean()\n",
    "type_reading_scores"
   ]
  },
  {
   "cell_type": "code",
   "execution_count": 1029,
   "id": "a5cbc011",
   "metadata": {},
   "outputs": [
    {
     "data": {
      "text/plain": [
       "School Type\n",
       "Government     84.462375\n",
       "Independent    89.204043\n",
       "Name: % Passing Maths, dtype: float64"
      ]
     },
     "execution_count": 1029,
     "metadata": {},
     "output_type": "execute_result"
    }
   ],
   "source": [
    "#average maths passing percentage per type\n",
    "type_passing_maths = schoolsummary_df.groupby([\"School Type\"])[\"% Passing Maths\"].mean()\n",
    "type_passing_maths"
   ]
  },
  {
   "cell_type": "code",
   "execution_count": 1030,
   "id": "84c18025",
   "metadata": {},
   "outputs": [],
   "source": [
    "#average reading passing percentage per type\n",
    "type_passing_reading = schoolsummary_df.groupby([\"School Type\"])[\"% Passing Reading\"].mean()"
   ]
  },
  {
   "cell_type": "code",
   "execution_count": 1031,
   "id": "d10f444c",
   "metadata": {},
   "outputs": [],
   "source": [
    "#average overall passing percentage per type\n",
    "overall_passing_type = schoolsummary_df.groupby([\"School Type\"])[\"% Passing Overall\"].mean()"
   ]
  },
  {
   "cell_type": "code",
   "execution_count": 1032,
   "id": "d6355cbb",
   "metadata": {},
   "outputs": [],
   "source": [
    "#add columns to type summary df\n",
    "type_summary = pd.DataFrame({\n",
    "    'Average Maths Score':type_maths_scores,\n",
    "    'Average Reading Score':type_reading_scores,\n",
    "    '% Passing Maths':type_passing_maths,\n",
    "    '% Passing Reading':type_passing_reading,\n",
    "    '% Passing Overall':overall_passing_type\n",
    "})"
   ]
  },
  {
   "cell_type": "code",
   "execution_count": 1033,
   "id": "347c44cf",
   "metadata": {},
   "outputs": [],
   "source": [
    "#format cells\n",
    "type_summary['Average Maths Score'] = type_summary['Average Maths Score'].map('{:0.2f}'.format)\n",
    "type_summary['Average Reading Score'] = type_summary['Average Reading Score'].map('{:0.2f}'.format)\n",
    "type_summary['% Passing Maths'] = type_summary['% Passing Maths'].map('{:0.2f}%'.format)\n",
    "type_summary['% Passing Reading'] = type_summary['% Passing Reading'].map('{:0.2f}%'.format)\n",
    "type_summary['% Passing Overall'] = type_summary['% Passing Overall'].map('{:0.2f}%'.format)"
   ]
  },
  {
   "cell_type": "markdown",
   "id": "f0c27b5a",
   "metadata": {},
   "source": [
    "# Scores by School Type"
   ]
  },
  {
   "cell_type": "code",
   "execution_count": 1034,
   "id": "a6fdf436",
   "metadata": {},
   "outputs": [
    {
     "data": {
      "text/html": [
       "<div>\n",
       "<style scoped>\n",
       "    .dataframe tbody tr th:only-of-type {\n",
       "        vertical-align: middle;\n",
       "    }\n",
       "\n",
       "    .dataframe tbody tr th {\n",
       "        vertical-align: top;\n",
       "    }\n",
       "\n",
       "    .dataframe thead th {\n",
       "        text-align: right;\n",
       "    }\n",
       "</style>\n",
       "<table border=\"1\" class=\"dataframe\">\n",
       "  <thead>\n",
       "    <tr style=\"text-align: right;\">\n",
       "      <th></th>\n",
       "      <th>Average Maths Score</th>\n",
       "      <th>Average Reading Score</th>\n",
       "      <th>% Passing Maths</th>\n",
       "      <th>% Passing Reading</th>\n",
       "      <th>% Passing Overall</th>\n",
       "    </tr>\n",
       "    <tr>\n",
       "      <th>School Type</th>\n",
       "      <th></th>\n",
       "      <th></th>\n",
       "      <th></th>\n",
       "      <th></th>\n",
       "      <th></th>\n",
       "    </tr>\n",
       "  </thead>\n",
       "  <tbody>\n",
       "    <tr>\n",
       "      <th>Government</th>\n",
       "      <td>69.83</td>\n",
       "      <td>69.68</td>\n",
       "      <td>84.46%</td>\n",
       "      <td>83.59%</td>\n",
       "      <td>70.70%</td>\n",
       "    </tr>\n",
       "    <tr>\n",
       "      <th>Independent</th>\n",
       "      <td>71.37</td>\n",
       "      <td>70.72</td>\n",
       "      <td>89.20%</td>\n",
       "      <td>86.25%</td>\n",
       "      <td>76.97%</td>\n",
       "    </tr>\n",
       "  </tbody>\n",
       "</table>\n",
       "</div>"
      ],
      "text/plain": [
       "            Average Maths Score Average Reading Score % Passing Maths  \\\n",
       "School Type                                                             \n",
       "Government                69.83                 69.68          84.46%   \n",
       "Independent               71.37                 70.72          89.20%   \n",
       "\n",
       "            % Passing Reading % Passing Overall  \n",
       "School Type                                      \n",
       "Government             83.59%            70.70%  \n",
       "Independent            86.25%            76.97%  "
      ]
     },
     "execution_count": 1034,
     "metadata": {},
     "output_type": "execute_result"
    }
   ],
   "source": [
    "type_summary"
   ]
  },
  {
   "cell_type": "code",
   "execution_count": null,
   "id": "9b9593e3",
   "metadata": {},
   "outputs": [],
   "source": []
  }
 ],
 "metadata": {
  "kernelspec": {
   "display_name": "Python 3 (ipykernel)",
   "language": "python",
   "name": "python3"
  },
  "language_info": {
   "codemirror_mode": {
    "name": "ipython",
    "version": 3
   },
   "file_extension": ".py",
   "mimetype": "text/x-python",
   "name": "python",
   "nbconvert_exporter": "python",
   "pygments_lexer": "ipython3",
   "version": "3.10.13"
  }
 },
 "nbformat": 4,
 "nbformat_minor": 5
}
